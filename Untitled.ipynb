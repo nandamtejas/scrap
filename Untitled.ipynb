{
 "cells": [
  {
   "cell_type": "code",
   "execution_count": 2,
   "id": "a1c27139",
   "metadata": {},
   "outputs": [
    {
     "output_type": "stream",
     "name": "stdout",
     "text": [
      "Requirement already satisfied: bs4 in c:\\users\\91701\\documents\\programs\\germa technical test\\testvenv\\lib\\site-packages (0.0.1)\n",
      "Requirement already satisfied: beautifulsoup4 in c:\\users\\91701\\documents\\programs\\germa technical test\\testvenv\\lib\\site-packages (from bs4) (4.9.3)\n",
      "Requirement already satisfied: soupsieve>1.2 in c:\\users\\91701\\documents\\programs\\germa technical test\\testvenv\\lib\\site-packages (from beautifulsoup4->bs4) (2.2.1)\n",
      "Requirement already satisfied: requests in c:\\users\\91701\\documents\\programs\\germa technical test\\testvenv\\lib\\site-packages (2.25.1)\n",
      "Requirement already satisfied: certifi>=2017.4.17 in c:\\users\\91701\\documents\\programs\\germa technical test\\testvenv\\lib\\site-packages (from requests) (2021.5.30)\n",
      "Requirement already satisfied: urllib3<1.27,>=1.21.1 in c:\\users\\91701\\documents\\programs\\germa technical test\\testvenv\\lib\\site-packages (from requests) (1.26.6)\n",
      "Requirement already satisfied: idna<3,>=2.5 in c:\\users\\91701\\documents\\programs\\germa technical test\\testvenv\\lib\\site-packages (from requests) (2.10)\n",
      "Requirement already satisfied: chardet<5,>=3.0.2 in c:\\users\\91701\\documents\\programs\\germa technical test\\testvenv\\lib\\site-packages (from requests) (4.0.0)\n",
      "Requirement already satisfied: html5lib in c:\\users\\91701\\documents\\programs\\germa technical test\\testvenv\\lib\\site-packages (1.1)\n",
      "Requirement already satisfied: six>=1.9 in c:\\users\\91701\\documents\\programs\\germa technical test\\testvenv\\lib\\site-packages (from html5lib) (1.16.0)\n",
      "Requirement already satisfied: webencodings in c:\\users\\91701\\documents\\programs\\germa technical test\\testvenv\\lib\\site-packages (from html5lib) (0.5.1)\n"
     ]
    }
   ],
   "source": [
    "!pip install bs4\n",
    "!pip install requests\n",
    "!pip install html5lib"
   ]
  },
  {
   "cell_type": "code",
   "execution_count": 3,
   "id": "cb5a5a54",
   "metadata": {
    "tags": [
     "outputPrepend"
    ]
   },
   "outputs": [
    {
     "output_type": "stream",
     "name": "stdout",
     "text": [
      "background: url('https://gogocdn.net/cover/majo-no-tabitabi.png');\">\n<div class=\"bottom\">\n<div class=\"name\">Majo no Tabitabi</div>\n<div class=\"episode\">EP 12</div>\n</div>\n</div>\n</a>\n</li>\n<li>\n<a href=\"/watch/enen-no-shouboutai-ni-no-shou-episode-24.html\" title=\"Enen no Shouboutai: Ni no Shou Episode 24\">\n<div class=\"thumb_anime\" style=\"background: url('https://gogocdn.net/cover/enen-no-shouboutai-ni-no-shou.png');\">\n<div class=\"bottom\">\n<div class=\"name\">Enen no Shouboutai: Ni no Shou</div>\n<div class=\"episode\">EP 24</div>\n</div>\n</div>\n</a>\n</li>\n<li>\n<a href=\"/watch/rezero-kara-hajimeru-isekai-seikatsu-2nd-season-episode-13.html\" title=\"Re:Zero kara Hajimeru Isekai Seikatsu 2nd Season Episode 13\">\n<div class=\"thumb_anime\" style=\"background: url('https://gogocdn.net/cover/rezero-kara-hajimeru-isekai-seikatsu-2nd-season.png');\">\n<div class=\"bottom\">\n<div class=\"name\">Re:Zero kara Hajimeru Isekai Seikatsu 2nd Season</div>\n<div class=\"episode\">EP 13</div>\n</div>\n</div>\n</a>\n</li>\n<li>\n<a href=\"/watch/ahiru-no-sora-episode-50.html\" title=\"Ahiru no Sora Episode 50\">\n<div class=\"thumb_anime\" style=\"background: url('https://gogocdn.net/cover/ahiru-no-sora.png');\">\n<div class=\"bottom\">\n<div class=\"name\">Ahiru no Sora</div>\n<div class=\"episode\">EP 50</div>\n</div>\n</div>\n</a>\n</li>\n</ul>\n<div class=\"clr\"></div>\n<div class=\"view_more\"><a href=\"/popular.html\" title=\"Most Popular\">view more</a></div>\n</div>\n</div>\n</div>\n<div class=\"content_right\">\n<ul class=\"nav-tabs ads\">\n<li><a class=\"active\" data-tab=\"ads\" href=\"#\">Ads</a></li>\n<li><a data-tab=\"ongoing\" href=\"#\">Ongoing</a></li>\n<li><a data-tab=\"genres\" href=\"#\">Genres</a></li>\n</ul>\n<div class=\"main_body right\">\n<div class=\"main_body_black right ads\">\n<div class=\"ads_right\"></div>\n</div>\n<div class=\"main_body_black right ongoing\">\n<div class=\"series\">\n<nav class=\"menu_series\">\n<ul>\n<li>\n<a href=\"/anime/100-man-no-inochi-no-ue-ni-ore-wa-tatteiru-2nd-season.html\" title=\"100-man no Inochi no Ue ni Ore wa Tatteiru 2nd Season\">100-man no Inochi no Ue ni Ore wa Tatteiru 2nd Season</a>\n</li>\n<li>\n<a href=\"/anime/6hp-six-hearts-princess.html\" title=\"6HP (Six Hearts Princess)\">6HP (Six Hearts Princess)</a>\n</li>\n<li>\n<a href=\"/anime/86-dub.html\" title=\"86 (Dub)\">86 (Dub)</a>\n</li>\n<li>\n<a href=\"/anime/a3-season-spring-summer-dub.html\" title=\"A3! Season Spring &amp; Summer (Dub)\">A3! Season Spring &amp; Summer (Dub)</a>\n</li>\n<li>\n<a href=\"/anime/ai-city.html\" title=\"Ai City\">Ai City</a>\n</li>\n<li>\n<a href=\"/anime/aikatsu-planet.html\" title=\"Aikatsu Planet!\">Aikatsu Planet!</a>\n</li>\n<li>\n<a href=\"/anime/an-jie-shen-shi.html\" title=\"An Jie Shen Shi\">An Jie Shen Shi</a>\n</li>\n<li>\n<a href=\"/anime/artiswitch.html\" title=\"Artiswitch\">Artiswitch</a>\n</li>\n<li>\n<a href=\"/anime/assault-lily-fruits.html\" title=\"Assault Lily: Fruits\">Assault Lily: Fruits</a>\n</li>\n<li>\n<a href=\"/anime/back-arrow-dub.html\" title=\"Back Arrow (Dub)\">Back Arrow (Dub)</a>\n</li>\n<li>\n<a href=\"/anime/beyblade-burst-dynamite-battle.html\" title=\"Beyblade Burst Dynamite Battle\">Beyblade Burst Dynamite Battle</a>\n</li>\n<li>\n<a href=\"/anime/beyblade-burst-sparking-dub.html\" title=\"Beyblade Burst Sparking (Dub)\">Beyblade Burst Sparking (Dub)</a>\n</li>\n<li>\n<a href=\"/anime/bishounen-tanteidan-dub.html\" title=\"Bishounen Tanteidan (Dub)\">Bishounen Tanteidan (Dub)</a>\n</li>\n<li>\n<a href=\"/anime/black-clover-tv-dub.html\" title=\"Black Clover (TV) (Dub)\">Black Clover (TV) (Dub)</a>\n</li>\n<li>\n<a href=\"/anime/blue-reflection-ray.html\" title=\"Blue Reflection Ray\">Blue Reflection Ray</a>\n</li>\n<li>\n<a href=\"/anime/blue-reflex-ray.html\" title=\"Blue Reflex Ray\">Blue Reflex Ray</a>\n</li>\n<li>\n<a href=\"/anime/boku-no-hero-academia-5th-season.html\" title=\"Boku no Hero Academia 5th Season\">Boku no Hero Academia 5th Season</a>\n</li>\n<li>\n<a href=\"/anime/boku-no-hero-academia-5th-season-dub.html\" title=\"Boku no Hero Academia 5th Season (Dub)\">Boku no Hero Academia 5th Season (Dub)</a>\n</li>\n<li>\n<a href=\"/anime/bokutachi-no-remake.html\" title=\"Bokutachi no Remake\">Bokutachi no Remake</a>\n</li>\n<li>\n<a href=\"/anime/boruto-naruto-next-generations.html\" title=\"Boruto: Naruto Next Generations\">Boruto: Naruto Next Generations</a>\n</li>\n<li>\n<a href=\"/anime/boruto-naruto-next-generations-dub.html\" title=\"Boruto: Naruto Next Generations (Dub)\">Boruto: Naruto Next Generations (Dub)</a>\n</li>\n<li>\n<a href=\"/anime/bungou-to-alchemist-shinpan-no-haguruma-dub.html\" title=\"Bungou to Alchemist: Shinpan no Haguruma (Dub)\">Bungou to Alchemist: Shinpan no Haguruma (Dub)</a>\n</li>\n<li>\n<a href=\"/anime/cap-kakumei-bottleman.html\" title=\"Cap Kakumei Bottleman\">Cap Kakumei Bottleman</a>\n</li>\n<li>\n<a href=\"/anime/cap-kakumei-bottleman-dub.html\" title=\"Cap Kakumei Bottleman (Dub)\">Cap Kakumei Bottleman (Dub)</a>\n</li>\n<li>\n<a href=\"/anime/cardfight-vanguard-zoku-koukousei-hen-dub.html\" title=\"Cardfight!! Vanguard: Zoku Koukousei-hen (Dub)\">Cardfight!! Vanguard: Zoku Koukousei-hen (Dub)</a>\n</li>\n<li>\n<a href=\"/anime/cheat-kusushi-no-slow-life-isekai-ni-tsukurou-drugstore.html\" title=\"Cheat Kusushi no Slow Life: Isekai ni Tsukurou Drugstore\">Cheat Kusushi no Slow Life: Isekai ni Tsukurou Drugstore</a>\n</li>\n<li>\n<a href=\"/anime/chibi-revenger.html\" title=\"Chibi Revenger\">Chibi Revenger</a>\n</li>\n<li>\n<a href=\"/anime/chokotto-anime-kemono-friends-3.html\" title=\"Chokotto Anime Kemono Friends 3\">Chokotto Anime Kemono Friends 3</a>\n</li>\n<li>\n<a href=\"/anime/crayon-shin-chan.html\" title=\"Crayon Shin Chan\">Crayon Shin Chan</a>\n</li>\n<li>\n<a href=\"/anime/crayon-shin-chan-dub.html\" title=\"Crayon Shin-chan (Dub)\">Crayon Shin-chan (Dub)</a>\n</li>\n<li>\n<a href=\"/anime/d-cide-traumerei-the-animation.html\" title=\"D_Cide Traumerei the Animation\">D_Cide Traumerei the Animation</a>\n</li>\n<li>\n<a href=\"/anime/d4dj-petit-mix.html\" title=\"D4DJ Petit Mix\">D4DJ Petit Mix</a>\n</li>\n<li>\n<a href=\"/anime/deatte-5-byou-de-battle.html\" title=\"Deatte 5-byou de Battle\">Deatte 5-byou de Battle</a>\n</li>\n<li>\n<a href=\"/anime/detective-conan.html\" title=\"Detective Conan\">Detective Conan</a>\n</li>\n<li>\n<a href=\"/anime/digimon-adventure-2020.html\" title=\"Digimon Adventure (2020)\">Digimon Adventure (2020)</a>\n</li>\n<li>\n<a href=\"/anime/dokidoki-precure-dub.html\" title=\"Dokidoki! Precure (Dub)\">Dokidoki! Precure (Dub)</a>\n</li>\n<li>\n<a href=\"/anime/douluo-dalu-2nd-season.html\" title=\"Douluo Dalu 2nd Season\">Douluo Dalu 2nd Season</a>\n</li>\n<li>\n<a href=\"/anime/doupo-cangqiong-4th-season.html\" title=\"Doupo Cangqiong 4th Season\">Doupo Cangqiong 4th Season</a>\n</li>\n<li>\n<a href=\"/anime/dragon-quest-dai-no-daibouken-2020.html\" title=\"Dragon Quest: Dai no Daibouken (2020)\">Dragon Quest: Dai no Daibouken (2020)</a>\n</li>\n<li>\n<a href=\"/anime/dragon-ie-wo-kau.html\" title=\"Dragon, Ie wo Kau.\">Dragon, Ie wo Kau.</a>\n</li>\n<li>\n<a href=\"/anime/dubu-xiaoyao.html\" title=\"Dubu Xiaoyao\">Dubu Xiaoyao</a>\n</li>\n<li>\n<a href=\"/anime/edens-zero.html\" title=\"Edens Zero\">Edens Zero</a>\n</li>\n<li>\n<a href=\"/anime/fategrand-carnival.html\" title=\"Fate/Grand Carnival\">Fate/Grand Carnival</a>\n</li>\n<li>\n<a href=\"/anime/fei-ren-zai-4th-season.html\" title=\"Fei Ren Zai 4th Season\">Fei Ren Zai 4th Season</a>\n</li>\n<li>\n<a href=\"/anime/fumetsu-no-anata-e.html\" title=\"Fumetsu no Anata e\">Fumetsu no Anata e</a>\n</li>\n<li>\n<a href=\"/anime/fumetsu-no-anata-e-dub.html\" title=\"Fumetsu no Anata e (Dub)\">Fumetsu no Anata e (Dub)</a>\n</li>\n<li>\n<a href=\"/anime/fushigi-dagashiya-zenitendou.html\" title=\"Fushigi Dagashiya: Zenitendou\">Fushigi Dagashiya: Zenitendou</a>\n</li>\n<li>\n<a href=\"/anime/future-card-buddyfight-ace-dub.html\" title=\"Future Card Buddyfight Ace (Dub)\">Future Card Buddyfight Ace (Dub)</a>\n</li>\n<li>\n<a href=\"/anime/gaina-tamager.html\" title=\"Gaina Tamager\">Gaina Tamager</a>\n</li>\n<li>\n<a href=\"/anime/gal-gaku-hijiri-girls-square-gakuin.html\" title=\"Gal-gaku.: Hijiri Girls Square Gakuin\">Gal-gaku.: Hijiri Girls Square Gakuin</a>\n</li>\n<li>\n<a href=\"/anime/genjitsu-shugi-yuusha-no-oukoku-saikenki.html\" title=\"Genjitsu Shugi Yuusha no Oukoku Saikenki\">Genjitsu Shugi Yuusha no Oukoku Saikenki</a>\n</li>\n<li>\n<a href=\"/anime/getter-robo-arc.html\" title=\"Getter Robo Arc\">Getter Robo Arc</a>\n</li>\n<li>\n<a href=\"/anime/ginga-kikoutai-majestic-prince-mirai-e-no-tsubasa-dub.html\" title=\"Ginga Kikoutai Majestic Prince: Mirai e no Tsubasa (Dub)\">Ginga Kikoutai Majestic Prince: Mirai e no Tsubasa (Dub)</a>\n</li>\n<li>\n<a href=\"/anime/gintama-the-semi-final.html\" title=\"Gintama: The Semi-Final\">Gintama: The Semi-Final</a>\n</li>\n<li>\n<a href=\"/anime/gregory-horror-show-the-bloody-karte-dub.html\" title=\"Gregory Horror Show: The Bloody Karte (Dub)\">Gregory Horror Show: The Bloody Karte (Dub)</a>\n</li>\n<li>\n<a href=\"/anime/happy-sugar-life-dub.html\" title=\"Happy Sugar Life (Dub)\">Happy Sugar Life (Dub)</a>\n</li>\n<li>\n<a href=\"/anime/heion-sedai-no-idaten-tachi.html\" title=\"Heion Sedai no Idaten-tachi\">Heion Sedai no Idaten-tachi</a>\n</li>\n<li>\n<a href=\"/anime/higurashi-no-naku-koro-ni-sotsu.html\" title=\"Higurashi no Naku Koro ni Sotsu\">Higurashi no Naku Koro ni Sotsu</a>\n</li>\n<li>\n<a href=\"/anime/holo-no-graffiti.html\" title=\"Holo no Graffiti\">Holo no Graffiti</a>\n</li>\n<li>\n<a href=\"/anime/hori-san-to-miyamura-kun.html\" title=\"Hori-san to Miyamura-kun\">Hori-san to Miyamura-kun</a>\n</li>\n</ul>\n</nav>\n<div class=\"clr\"></div>\n<div class=\"view_more\"><a href=\"/ongoing.html\">view more</a></div>\n</div>\n</div>\n<div class=\"main_body_black right genres\">\n<div class=\"series\">\n<nav class=\"menu_series\">\n<ul>\n<li><a href=\"/genre/action.html\" title=\"Action Anime\">Action</a></li>\n<li><a href=\"/genre/adventure.html\" title=\"Adventure Anime\">Adventure</a></li>\n<li><a href=\"/genre/cars.html\" title=\"Cars Anime\">Cars</a></li>\n<li><a href=\"/genre/comedy.html\" title=\"Comedy Anime\">Comedy</a></li>\n<li><a href=\"/genre/dementia.html\" title=\"Dementia Anime\">Dementia</a></li>\n<li><a href=\"/genre/demons.html\" title=\"Demons Anime\">Demons</a></li>\n<li><a href=\"/genre/drama.html\" title=\"Drama Anime\">Drama</a></li>\n<li><a href=\"/genre/ecchi.html\" title=\"Ecchi Anime\">Ecchi</a></li>\n<li><a href=\"/genre/fantasy.html\" title=\"Fantasy Anime\">Fantasy</a></li>\n<li><a href=\"/genre/game.html\" title=\"Game Anime\">Game</a></li>\n<li><a href=\"/genre/harem.html\" title=\"Harem Anime\">Harem</a></li>\n<li><a href=\"/genre/historical.html\" title=\"Historical Anime\">Historical</a></li>\n<li><a href=\"/genre/horror.html\" title=\"Horror Anime\">Horror</a></li>\n<li><a href=\"/genre/josei.html\" title=\"Josei Anime\">Josei</a></li>\n<li><a href=\"/genre/kids.html\" title=\"Kids Anime\">Kids</a></li>\n<li><a href=\"/genre/magic.html\" title=\"Magic Anime\">Magic</a></li>\n<li><a href=\"/genre/martial-arts.html\" title=\"Martial Arts Anime\">Martial Arts</a></li>\n<li><a href=\"/genre/mecha.html\" title=\"Mecha Anime\">Mecha</a></li>\n<li><a href=\"/genre/military.html\" title=\"Military Anime\">Military</a></li>\n<li><a href=\"/genre/music.html\" title=\"Music Anime\">Music</a></li>\n<li><a href=\"/genre/mystery.html\" title=\"Mystery Anime\">Mystery</a></li>\n<li><a href=\"/genre/parody.html\" title=\"Parody Anime\">Parody</a></li>\n<li><a href=\"/genre/police.html\" title=\"Police Anime\">Police</a></li>\n<li><a href=\"/genre/psychological.html\" title=\"Psychological Anime\">Psychological</a></li>\n<li><a href=\"/genre/romance.html\" title=\"Romance Anime\">Romance</a></li>\n<li><a href=\"/genre/samurai.html\" title=\"Samurai Anime\">Samurai</a></li>\n<li><a href=\"/genre/school.html\" title=\"School Anime\">School</a></li>\n<li><a href=\"/genre/sci-fi.html\" title=\"Sci-Fi Anime\">Sci-Fi</a></li>\n<li><a href=\"/genre/seinen.html\" title=\"Seinen Anime\">Seinen</a></li>\n<li><a href=\"/genre/shoujo.html\" title=\"Shoujo Anime\">Shoujo</a></li>\n<li><a href=\"/genre/shoujo-ai.html\" title=\"Shoujo Ai Anime\">Shoujo Ai</a></li>\n<li><a href=\"/genre/shounen.html\" title=\"Shounen Anime\">Shounen</a></li>\n<li><a href=\"/genre/shounen-ai.html\" title=\"Shounen Ai Anime\">Shounen Ai</a></li>\n<li><a href=\"/genre/slice-of-life.html\" title=\"Slice of Life Anime\">Slice of Life</a></li>\n<li><a href=\"/genre/space.html\" title=\"Space Anime\">Space</a></li>\n<li><a href=\"/genre/sports.html\" title=\"Sports Anime\">Sports</a></li>\n<li><a href=\"/genre/super-power.html\" title=\"Super Power Anime\">Super Power</a></li>\n<li><a href=\"/genre/supernatural.html\" title=\"Supernatural Anime\">Supernatural</a></li>\n<li><a href=\"/genre/thriller.html\" title=\"Thriller Anime\">Thriller</a></li>\n<li><a href=\"/genre/vampire.html\" title=\"Vampire Anime\">Vampire</a></li>\n<li><a href=\"/genre/yaoi.html\" title=\"Yaoi Anime\">Yaoi</a></li>\n<li><a href=\"/genre/yuri.html\" title=\"Yuri Anime\">Yuri</a></li>\n<li><a href=\"/genre/family.html\" title=\"Family Anime\">Family</a></li>\n</ul>\n</nav>\n</div>\n</div>\n</div> </div>\n</div>\n<footer>\n<div class=\"footer\">\n<div class=\"menu_bottom\">\n<ul class=\"menu_footer\">\n<li><a href=\"/privacy\" title=\"Privacy\">Privacy</a></li>\n<li><a href=\"/about\" title=\"Privacy\">About Us</a></li>\n<li><a href=\"/contact\" title=\"Contact Us\">Contact Us</a></li>\n</ul>\n</div>\n<div class=\"croll\">\n<div class=\"croll_nen\">\n<div id=\"scroll-top\">\n<div id=\"scroll-top-arrow\"><img alt=\"top\" src=\"https://www7.animeseries.io/img/bg/back-to-top.png\"/></div>\n</div>\n</div>\n</div>\n</div>\n</footer>\n</div>\n</div>\n</div>\n</div>\n<div id=\"off_light\"></div>\n<div class=\"clr\"></div>\n<div class=\"mask\"></div>\n<div id=\"fb-root\"></div>\n<script>\n              (function(i,s,o,g,r,a,m){i['GoogleAnalyticsObject']=r;i[r]=i[r]||function(){\n              (i[r].q=i[r].q||[]).push(arguments)},i[r].l=1*new Date();a=s.createElement(o),\n              m=s.getElementsByTagName(o)[0];a.async=1;a.src=g;m.parentNode.insertBefore(a,m)\n              })(window,document,'script','//www.google-analytics.com/analytics.js','ga');\n\n              ga('create', 'UA-101185934-3', 'auto');\n              ga('send', 'pageview');\n\n            </script>\n<script src=\"https://www7.animeseries.io/js/hamfunction.js?v=3.6\" type=\"text/javascript\"></script>\n<script src=\"https://www7.animeseries.io/js/combo.js?v=3.6\" type=\"text/javascript\"></script>\n<script src=\"https://www7.animeseries.io/js/fancybox/jquery.fancybox.pack.js?v=3.6\" type=\"text/javascript\"></script>\n<script src=\"https://www7.animeseries.io/js/jquery-ui.min.js?v=3.6\" type=\"text/javascript\"></script>\n<script>\n        $(window).on('load', function () {\n          (function (d, s, id) {\n            var js, fjs = d.getElementsByTagName(s)[0];\n            if (d.getElementById(id)) return;\n            js = d.createElement(s);\n            js.id = id;\n            js.src = \"//connect.facebook.net/en_US/sdk.js#xfbml=1&version=v2.0&appId=816055948471470\";\n            fjs.parentNode.insertBefore(js, fjs);\n          }(document, 'script', 'facebook-jssdk'));\n\n          $(\".viewDetail\").fancybox({\n            maxWidth: 400,\n            maxHeight: 300,\n            fitToView: false,\n            width: '80%',\n            height: '80%',\n            autoSize: false,\n            closeClick: false,\n            openEffect: 'none',\n            closeEffect: 'none'\n          });\n\n          var opacity = function () {\n            var scrollTop = $(window).scrollTop();\n            if (scrollTop > 200)\n              opacity = 1;\n            else if (scrollTop > 10 && scrollTop < 200)\n              opacity = scrollTop / 200;\n            else\n              opacity = 0;\n            $(\"#scroll-top\").css(\"opacity\", opacity);\n          };\n\n          $(\"#scroll-top\").click(function () {\n            $(\"html,body\").animate({scrollTop: 0}, \"slow\");\n            return false;\n          });\n          $(window).bind(\"scroll\", null, opacity);\n          opacity();\n        });\n\n        $(document).ready(function () {\n\t\t  $('.close-ads-homepage-300').click(function (){\n\t\t    $('.ads-homepage-300').hide();\n\t\t  });\n          $('a.up-down').live(\"click\", function () {\n            $(\".headerM .menu_left\").slideToggle('slow');\n            $('.mask').toggle();\n          });\n          $('.mask').click(function () {\n            $(\".headerM .menu_left\").fadeOut();\n            $('.mask').fadeOut();\n          });\n        });\n\n        $('#search-form').on('submit', function (e) {\n          if ($('#search').val().length <= 0) {\n            e.preventDefault();\n          }\n        });\n\n        $(\"#search\").autocomplete({\n          minLength: 3,\n          appendTo: '.form',\n          source: function (request, response) {\n            $.ajax({\n              url: '/search',\n              type: 'get',\n              dataType: 'json',\n              data: {\n                keyword: request.term\n              },\n              success: function (data) {\n                response(data);\n              }\n            });\n          },\n          messages: {\n            noResults: '',\n            results: function() {}\n          },\n          select: function (event, ui) {\n            url = ui.item.url;\n            window.location = url;\n          }\n        }).autocomplete(\"instance\")._renderItem = function (ul, item) {\n          return $(\"<li>\")\n            .append(\"<a><img src='https://gogocdn.net/\" + item.cover + \"' /><div class='inf'><div class='name'>\" + item.name + \"</div><div class='meta'>\" + item.status + \" Released: \" + item.released + \"</div></div><div class='clr'></div></a>\")\n            .appendTo(ul);\n        };\n    </script>\n<script type=\"text/javascript\">\n      if(!window.BB_ind) { BB_ind = 0; }\n      if(!window.BB_r) { BB_r = Math.floor(Math.random()*1000000000)}\n      BB_ind++;\n      window.BB_skin = {\n          centerWidth: 980,\n          centerDomId: '',\n          leftOffset: 0,\n          rightOffset: 0,\n          topPos: 0,\n          deferLoading: false,\n          fixed: true,\n          fixedStickTopOnScroll: false,\n          fixedScrollSecondaryTop: 0,\n          adjustSkinOnDynamicCenter: true,\n          zIndex: 0,\n          leftFrameId: '',\n          rightFrameId: '',\n          pl: 41600,\n          index: BB_ind\n      };\n    </script>\n<script async=\"\" src=\"//st.bebi.com/bebi_v3.js\" type=\"text/javascript\"></script>\n<script src=\"https://www7.animeseries.io/js/layerslider/js/greensock.js?v=3.6\" type=\"text/javascript\"></script>\n<script src=\"https://www7.animeseries.io/js/layerslider/js/layerslider.transitions.js?v=3.6\" type=\"text/javascript\"></script>\n<script src=\"https://www7.animeseries.io/js/layerslider/js/layerslider.kreaturamedia.jquery.js?v=3.6\" type=\"text/javascript\"></script>\n<script>\n    $(document).ready(function () {\n      $(\"#layerslider\").layerSlider({\n        twoWaySlideshow: true,\n        skin: 'glass',\n        hoverPrevNext: false,\n        cbInit: function (element) {\n          jQuery('.c-api').append(jQuery('<span>function cbInit() called</span><br>'));\n        },\n        cbStart: function (data) {\n          jQuery('.c-api').append(jQuery('<span>function cbStart() called</span><br>'));\n        },\n        cbStop: function (data) {\n          jQuery('.c-api').append(jQuery('<span>function cbStop() called</span><br>'));\n        },\n        cbPause: function (data) {\n          jQuery('.c-api').append(jQuery('<span>function cbPause() called (pauseOnHover)</span><br>'));\n        },\n        cbAnimStart: function (data) {\n          jQuery('.c-api').append(jQuery('<span>function cbAnimStart() called, current slide is: ' + data.curLayerIndex + ', next slide is: ' + data.nextLayerIndex + '</span><br>'));\n        },\n        cbAnimStop: function (data) {\n          jQuery('.c-api').append(jQuery('<span>function cbAnimStop() called</span><br>'));\n        },\n        cbPrev: function (data) {\n          jQuery('.c-api').append(jQuery('<span>function cbPrevt() called</span><br>'));\n        },\n        cbNext: function (data) {\n          jQuery('.c-api').append(jQuery('<span>function cbNext() called</span><br>'));\n        },\n        skinsPath: 'js/layerslider/skins/'\n      });\n    });\n  </script>\n<!-- <div class=\"ads-homepage-300\" style=\"position:fixed;right:0;bottom:0;z-index:10;border:5px solid #009bc3;cursor:pointer;\">\n      <div class=\"close-ads-homepage-300\" style=\"background:#ff7800;position:fixed;font-weight:600;right:282px;bottom:240px;padding:3px 10px;\">X</div>\n          </div>-->\n</body>\n</html>\n"
     ]
    }
   ],
   "source": [
    "import requests\n",
    "from bs4 import BeautifulSoup\n",
    "\n",
    "html_url = \"https://www7.animeseries.io/\"\n",
    "html_response = requests.get(html_url, stream=True)\n",
    "soup = BeautifulSoup(html_response.text, 'html.parser')\n",
    "print(soup)"
   ]
  },
  {
   "cell_type": "code",
   "execution_count": 4,
   "id": "c390a710",
   "metadata": {
    "tags": [
     "outputPrepend"
    ]
   },
   "outputs": [
    {
     "output_type": "stream",
     "name": "stdout",
     "text": [
      "e-16.html\" title=\"Shingeki no Kyojin: The Final Season Episode 16\">\n<div class=\"thumb_anime\" style=\"background: url('https://gogocdn.net/cover/shingeki-no-kyojin-the-final-season.png');\">\n<div class=\"bottom\">\n<div class=\"name\">Shingeki no Kyojin: The Final Season</div>\n<div class=\"episode\">EP 16</div>\n</div>\n</div>\n</a>\n</li>\n<li>\n<a href=\"/watch/kemono-jihen-episode-12.html\" title=\"Kemono Jihen Episode 12\">\n<div class=\"thumb_anime\" style=\"background: url('https://gogocdn.net/cover/kemono-jihen.png');\">\n<div class=\"bottom\">\n<div class=\"name\">Kemono Jihen</div>\n<div class=\"episode\">EP 12</div>\n</div>\n</div>\n</a>\n</li>\n<li>\n<a href=\"/watch/jujutsu-kaisen-tv-episode-24.html\" title=\"Jujutsu Kaisen (TV) Episode 24\">\n<div class=\"thumb_anime\" style=\"background: url('https://gogocdn.net/cover/jujutsu-kaisen-tv.png');\">\n<div class=\"bottom\">\n<div class=\"name\">Jujutsu Kaisen (TV)</div>\n<div class=\"episode\">EP 24</div>\n</div>\n</div>\n</a>\n</li>\n<li>\n<a href=\"/watch/5-toubun-no-hanayome-2-episode-12.html\" title=\"5-toubun no Hanayome 2 Episode 12\">\n<div class=\"thumb_anime\" style=\"background: url('https://gogocdn.net/cover/5-toubun-no-hanayome-2.png');\">\n<div class=\"bottom\">\n<div class=\"name\">5-toubun no Hanayome 2</div>\n<div class=\"episode\">EP 12</div>\n</div>\n</div>\n</a>\n</li>\n<li>\n<a href=\"/watch/yakusoku-no-neverland-2nd-season-episode-11.html\" title=\"Yakusoku no Neverland 2nd Season Episode 11\">\n<div class=\"thumb_anime\" style=\"background: url('https://gogocdn.net/cover/yakusoku-no-neverland-2nd-season.png');\">\n<div class=\"bottom\">\n<div class=\"name\">Yakusoku no Neverland 2nd Season</div>\n<div class=\"episode\">EP 11</div>\n</div>\n</div>\n</a>\n</li>\n<li>\n<a href=\"/watch/dr-stone-stone-wars-episode-11.html\" title=\"Dr. Stone: Stone Wars Episode 11\">\n<div class=\"thumb_anime\" style=\"background: url('https://gogocdn.net/cover/dr-stone-stone-wars.png');\">\n<div class=\"bottom\">\n<div class=\"name\">Dr. Stone: Stone Wars</div>\n<div class=\"episode\">EP 11</div>\n</div>\n</div>\n</a>\n</li>\n<li>\n<a href=\"/watch/beastars-2nd-season-episode-12.html\" title=\"Beastars 2nd Season Episode 12\">\n<div class=\"thumb_anime\" style=\"background: url('https://gogocdn.net/cover/beastars-2nd-season.png');\">\n<div class=\"bottom\">\n<div class=\"name\">Beastars 2nd Season</div>\n<div class=\"episode\">EP 12</div>\n</div>\n</div>\n</a>\n</li>\n<li>\n<a href=\"/watch/rezero-kara-hajimeru-isekai-seikatsu-2nd-season-part-2-episode-12.html\" title=\"Re:Zero kara Hajimeru Isekai Seikatsu 2nd Season Part 2 Episode 12\">\n<div class=\"thumb_anime\" style=\"background: url('https://gogocdn.net/cover/rezero-kara-hajimeru-isekai-seikatsu-2nd-season-part-2.png');\">\n<div class=\"bottom\">\n<div class=\"name\">Re:Zero kara Hajimeru Isekai Seikatsu 2nd Season Part 2</div>\n<div class=\"episode\">EP 12</div>\n</div>\n</div>\n</a>\n</li>\n<li>\n<a href=\"/watch/mushoku-tensei-isekai-ittara-honki-dasu-episode-11.html\" title=\"Mushoku Tensei: Isekai Ittara Honki Dasu Episode 11\">\n<div class=\"thumb_anime\" style=\"background: url('https://gogocdn.net/cover/mushoku-tensei-isekai-ittara-honki-dasu.png');\">\n<div class=\"bottom\">\n<div class=\"name\">Mushoku Tensei: Isekai Ittara Honki Dasu</div>\n<div class=\"episode\">EP 11</div>\n</div>\n</div>\n</a>\n</li>\n<li>\n<a href=\"/watch/hanyou-no-yashahime-sengoku-otogizoushi-episode-24.html\" title=\"Hanyou no Yashahime: Sengoku Otogizoushi Episode 24\">\n<div class=\"thumb_anime\" style=\"background: url('https://gogocdn.net/cover/hanyou-no-yashahime-sengoku-otogizoushi.png');\">\n<div class=\"bottom\">\n<div class=\"name\">Hanyou no Yashahime: Sengoku Otogizoushi</div>\n<div class=\"episode\">EP 24</div>\n</div>\n</div>\n</a>\n</li>\n<li>\n<a href=\"/watch/higurashi-no-naku-koro-ni-2020-episode-24.html\" title=\"Higurashi no Naku Koro ni (2020) Episode 24\">\n<div class=\"thumb_anime\" style=\"background: url('https://gogocdn.net/cover/higurashi-no-naku-koro-ni-2020.png');\">\n<div class=\"bottom\">\n<div class=\"name\">Higurashi no Naku Koro ni (2020)</div>\n<div class=\"episode\">EP 24</div>\n</div>\n</div>\n</a>\n</li>\n<li>\n<a href=\"/watch/hataraku-saibou-2-episode-8.html\" title=\"Hataraku Saibou!! Episode 8\">\n<div class=\"thumb_anime\" style=\"background: url('https://gogocdn.net/cover/hataraku-saibou.png');\">\n<div class=\"bottom\">\n<div class=\"name\">Hataraku Saibou!!</div>\n<div class=\"episode\">EP 8</div>\n</div>\n</div>\n</a>\n</li>\n<li>\n<a href=\"/watch/tensei-shitara-slime-datta-ken-episode-24-9.html\" title=\"Tensei shitara Slime Datta Ken Episode 24.9\">\n<div class=\"thumb_anime\" style=\"background: url('https://gogocdn.net/cover/tensei-shitara-slime-datta-ken.png');\">\n<div class=\"bottom\">\n<div class=\"name\">Tensei shitara Slime Datta Ken</div>\n<div class=\"episode\">EP 24.9</div>\n</div>\n</div>\n</a>\n</li>\n<li>\n<a href=\"/watch/noblesse-episode-13.html\" title=\"Noblesse Episode 13\">\n<div class=\"thumb_anime\" style=\"background: url('https://gogocdn.net/cover/noblesse.png');\">\n<div class=\"bottom\">\n<div class=\"name\">Noblesse</div>\n<div class=\"episode\">EP 13</div>\n</div>\n</div>\n</a>\n</li>\n<li>\n<a href=\"/watch/munou-na-nana-episode-13.html\" title=\"Munou na Nana Episode 13\">\n<div class=\"thumb_anime\" style=\"background: url('https://gogocdn.net/cover/munou-na-nana.png');\">\n<div class=\"bottom\">\n<div class=\"name\">Munou na Nana</div>\n<div class=\"episode\">EP 13</div>\n</div>\n</div>\n</a>\n</li>\n<li>\n<a href=\"/watch/mahouka-koukou-no-rettousei-raihousha-hen-episode-13.html\" title=\"Mahouka Koukou no Rettousei: Raihousha-hen Episode 13\">\n<div class=\"thumb_anime\" style=\"background: url('https://gogocdn.net/cover/mahouka-koukou-no-rettousei-raihousha-hen.png');\">\n<div class=\"bottom\">\n<div class=\"name\">Mahouka Koukou no Rettousei: Raihousha-hen</div>\n<div class=\"episode\">EP 13</div>\n</div>\n</div>\n</a>\n</li>\n<li>\n<a href=\"/watch/kamisama-ni-natta-hi-episode-12.html\" title=\"Kamisama ni Natta Hi Episode 12\">\n<div class=\"thumb_anime\" style=\"background: url('https://gogocdn.net/cover/kamisama-ni-natta-hi.png');\">\n<div class=\"bottom\">\n<div class=\"name\">Kamisama ni Natta Hi</div>\n<div class=\"episode\">EP 12</div>\n</div>\n</div>\n</a>\n</li>\n<li>\n<a href=\"/watch/tonikaku-kawaii-episode-12-5.html\" title=\"Tonikaku Kawaii Episode 12.5\">\n<div class=\"thumb_anime\" style=\"background: url('https://gogocdn.net/cover/tonikaku-kawaii.png');\">\n<div class=\"bottom\">\n<div class=\"name\">Tonikaku Kawaii</div>\n<div class=\"episode\">EP 12.5</div>\n</div>\n</div>\n</a>\n</li>\n<li>\n<a href=\"/watch/adachi-to-shimamura-episode-12.html\" title=\"Adachi to Shimamura Episode 12\">\n<div class=\"thumb_anime\" style=\"background: url('https://gogocdn.net/cover/adachi-to-shimamura.png');\">\n<div class=\"bottom\">\n<div class=\"name\">Adachi to Shimamura</div>\n<div class=\"episode\">EP 12</div>\n</div>\n</div>\n</a>\n</li>\n<li>\n<a href=\"/watch/haikyuu-to-the-top-2nd-season-episode-12.html\" title=\"Haikyuu!!: To the Top 2nd Season Episode 12\">\n<div class=\"thumb_anime\" style=\"background: url('https://gogocdn.net/cover/haikyuu-to-the-top-2nd-season.png');\">\n<div class=\"bottom\">\n<div class=\"name\">Haikyuu!!: To the Top 2nd Season</div>\n<div class=\"episode\">EP 12</div>\n</div>\n</div>\n</a>\n</li>\n<li>\n<a href=\"/watch/dungeon-ni-deai-wo-motomeru-no-wa-machigatteiru-darou-ka-iii-episode-12.html\" title=\"Dungeon ni Deai wo Motomeru no wa Machigatteiru Darou ka III Episode 12\">\n<div class=\"thumb_anime\" style=\"background: url('https://gogocdn.net/cover/dungeon-ni-deai-wo-motomeru-no-wa-machigatteiru-darou-ka-iii.png');\">\n<div class=\"bottom\">\n<div class=\"name\">Dungeon ni Deai wo Motomeru no wa Machigatteiru Darou ka III</div>\n<div class=\"episode\">EP 12</div>\n</div>\n</div>\n</a>\n</li>\n<li>\n<a href=\"/watch/majo-no-tabitabi-episode-12.html\" title=\"Majo no Tabitabi Episode 12\">\n<div class=\"thumb_anime\" style=\"background: url('https://gogocdn.net/cover/majo-no-tabitabi.png');\">\n<div class=\"bottom\">\n<div class=\"name\">Majo no Tabitabi</div>\n<div class=\"episode\">EP 12</div>\n</div>\n</div>\n</a>\n</li>\n<li>\n<a href=\"/watch/enen-no-shouboutai-ni-no-shou-episode-24.html\" title=\"Enen no Shouboutai: Ni no Shou Episode 24\">\n<div class=\"thumb_anime\" style=\"background: url('https://gogocdn.net/cover/enen-no-shouboutai-ni-no-shou.png');\">\n<div class=\"bottom\">\n<div class=\"name\">Enen no Shouboutai: Ni no Shou</div>\n<div class=\"episode\">EP 24</div>\n</div>\n</div>\n</a>\n</li>\n<li>\n<a href=\"/watch/rezero-kara-hajimeru-isekai-seikatsu-2nd-season-episode-13.html\" title=\"Re:Zero kara Hajimeru Isekai Seikatsu 2nd Season Episode 13\">\n<div class=\"thumb_anime\" style=\"background: url('https://gogocdn.net/cover/rezero-kara-hajimeru-isekai-seikatsu-2nd-season.png');\">\n<div class=\"bottom\">\n<div class=\"name\">Re:Zero kara Hajimeru Isekai Seikatsu 2nd Season</div>\n<div class=\"episode\">EP 13</div>\n</div>\n</div>\n</a>\n</li>\n<li>\n<a href=\"/watch/ahiru-no-sora-episode-50.html\" title=\"Ahiru no Sora Episode 50\">\n<div class=\"thumb_anime\" style=\"background: url('https://gogocdn.net/cover/ahiru-no-sora.png');\">\n<div class=\"bottom\">\n<div class=\"name\">Ahiru no Sora</div>\n<div class=\"episode\">EP 50</div>\n</div>\n</div>\n</a>\n</li>\n</ul>\n<div class=\"clr\"></div>\n<div class=\"view_more\"><a href=\"/popular.html\" title=\"Most Popular\">view more</a></div>\n</div>\n</div> <div class=\"main_body right\">\n<div class=\"main_body_black right ads\">\n<div class=\"ads_right\"></div>\n</div>\n<div class=\"main_body_black right ongoing\">\n<div class=\"series\">\n<nav class=\"menu_series\">\n<ul>\n<li>\n<a href=\"/anime/100-man-no-inochi-no-ue-ni-ore-wa-tatteiru-2nd-season.html\" title=\"100-man no Inochi no Ue ni Ore wa Tatteiru 2nd Season\">100-man no Inochi no Ue ni Ore wa Tatteiru 2nd Season</a>\n</li>\n<li>\n<a href=\"/anime/6hp-six-hearts-princess.html\" title=\"6HP (Six Hearts Princess)\">6HP (Six Hearts Princess)</a>\n</li>\n<li>\n<a href=\"/anime/86-dub.html\" title=\"86 (Dub)\">86 (Dub)</a>\n</li>\n<li>\n<a href=\"/anime/a3-season-spring-summer-dub.html\" title=\"A3! Season Spring &amp; Summer (Dub)\">A3! Season Spring &amp; Summer (Dub)</a>\n</li>\n<li>\n<a href=\"/anime/ai-city.html\" title=\"Ai City\">Ai City</a>\n</li>\n<li>\n<a href=\"/anime/aikatsu-planet.html\" title=\"Aikatsu Planet!\">Aikatsu Planet!</a>\n</li>\n<li>\n<a href=\"/anime/an-jie-shen-shi.html\" title=\"An Jie Shen Shi\">An Jie Shen Shi</a>\n</li>\n<li>\n<a href=\"/anime/artiswitch.html\" title=\"Artiswitch\">Artiswitch</a>\n</li>\n<li>\n<a href=\"/anime/assault-lily-fruits.html\" title=\"Assault Lily: Fruits\">Assault Lily: Fruits</a>\n</li>\n<li>\n<a href=\"/anime/back-arrow-dub.html\" title=\"Back Arrow (Dub)\">Back Arrow (Dub)</a>\n</li>\n<li>\n<a href=\"/anime/beyblade-burst-dynamite-battle.html\" title=\"Beyblade Burst Dynamite Battle\">Beyblade Burst Dynamite Battle</a>\n</li>\n<li>\n<a href=\"/anime/beyblade-burst-sparking-dub.html\" title=\"Beyblade Burst Sparking (Dub)\">Beyblade Burst Sparking (Dub)</a>\n</li>\n<li>\n<a href=\"/anime/bishounen-tanteidan-dub.html\" title=\"Bishounen Tanteidan (Dub)\">Bishounen Tanteidan (Dub)</a>\n</li>\n<li>\n<a href=\"/anime/black-clover-tv-dub.html\" title=\"Black Clover (TV) (Dub)\">Black Clover (TV) (Dub)</a>\n</li>\n<li>\n<a href=\"/anime/blue-reflection-ray.html\" title=\"Blue Reflection Ray\">Blue Reflection Ray</a>\n</li>\n<li>\n<a href=\"/anime/blue-reflex-ray.html\" title=\"Blue Reflex Ray\">Blue Reflex Ray</a>\n</li>\n<li>\n<a href=\"/anime/boku-no-hero-academia-5th-season.html\" title=\"Boku no Hero Academia 5th Season\">Boku no Hero Academia 5th Season</a>\n</li>\n<li>\n<a href=\"/anime/boku-no-hero-academia-5th-season-dub.html\" title=\"Boku no Hero Academia 5th Season (Dub)\">Boku no Hero Academia 5th Season (Dub)</a>\n</li>\n<li>\n<a href=\"/anime/bokutachi-no-remake.html\" title=\"Bokutachi no Remake\">Bokutachi no Remake</a>\n</li>\n<li>\n<a href=\"/anime/boruto-naruto-next-generations.html\" title=\"Boruto: Naruto Next Generations\">Boruto: Naruto Next Generations</a>\n</li>\n<li>\n<a href=\"/anime/boruto-naruto-next-generations-dub.html\" title=\"Boruto: Naruto Next Generations (Dub)\">Boruto: Naruto Next Generations (Dub)</a>\n</li>\n<li>\n<a href=\"/anime/bungou-to-alchemist-shinpan-no-haguruma-dub.html\" title=\"Bungou to Alchemist: Shinpan no Haguruma (Dub)\">Bungou to Alchemist: Shinpan no Haguruma (Dub)</a>\n</li>\n<li>\n<a href=\"/anime/cap-kakumei-bottleman.html\" title=\"Cap Kakumei Bottleman\">Cap Kakumei Bottleman</a>\n</li>\n<li>\n<a href=\"/anime/cap-kakumei-bottleman-dub.html\" title=\"Cap Kakumei Bottleman (Dub)\">Cap Kakumei Bottleman (Dub)</a>\n</li>\n<li>\n<a href=\"/anime/cardfight-vanguard-zoku-koukousei-hen-dub.html\" title=\"Cardfight!! Vanguard: Zoku Koukousei-hen (Dub)\">Cardfight!! Vanguard: Zoku Koukousei-hen (Dub)</a>\n</li>\n<li>\n<a href=\"/anime/cheat-kusushi-no-slow-life-isekai-ni-tsukurou-drugstore.html\" title=\"Cheat Kusushi no Slow Life: Isekai ni Tsukurou Drugstore\">Cheat Kusushi no Slow Life: Isekai ni Tsukurou Drugstore</a>\n</li>\n<li>\n<a href=\"/anime/chibi-revenger.html\" title=\"Chibi Revenger\">Chibi Revenger</a>\n</li>\n<li>\n<a href=\"/anime/chokotto-anime-kemono-friends-3.html\" title=\"Chokotto Anime Kemono Friends 3\">Chokotto Anime Kemono Friends 3</a>\n</li>\n<li>\n<a href=\"/anime/crayon-shin-chan.html\" title=\"Crayon Shin Chan\">Crayon Shin Chan</a>\n</li>\n<li>\n<a href=\"/anime/crayon-shin-chan-dub.html\" title=\"Crayon Shin-chan (Dub)\">Crayon Shin-chan (Dub)</a>\n</li>\n<li>\n<a href=\"/anime/d-cide-traumerei-the-animation.html\" title=\"D_Cide Traumerei the Animation\">D_Cide Traumerei the Animation</a>\n</li>\n<li>\n<a href=\"/anime/d4dj-petit-mix.html\" title=\"D4DJ Petit Mix\">D4DJ Petit Mix</a>\n</li>\n<li>\n<a href=\"/anime/deatte-5-byou-de-battle.html\" title=\"Deatte 5-byou de Battle\">Deatte 5-byou de Battle</a>\n</li>\n<li>\n<a href=\"/anime/detective-conan.html\" title=\"Detective Conan\">Detective Conan</a>\n</li>\n<li>\n<a href=\"/anime/digimon-adventure-2020.html\" title=\"Digimon Adventure (2020)\">Digimon Adventure (2020)</a>\n</li>\n<li>\n<a href=\"/anime/dokidoki-precure-dub.html\" title=\"Dokidoki! Precure (Dub)\">Dokidoki! Precure (Dub)</a>\n</li>\n<li>\n<a href=\"/anime/douluo-dalu-2nd-season.html\" title=\"Douluo Dalu 2nd Season\">Douluo Dalu 2nd Season</a>\n</li>\n<li>\n<a href=\"/anime/doupo-cangqiong-4th-season.html\" title=\"Doupo Cangqiong 4th Season\">Doupo Cangqiong 4th Season</a>\n</li>\n<li>\n<a href=\"/anime/dragon-quest-dai-no-daibouken-2020.html\" title=\"Dragon Quest: Dai no Daibouken (2020)\">Dragon Quest: Dai no Daibouken (2020)</a>\n</li>\n<li>\n<a href=\"/anime/dragon-ie-wo-kau.html\" title=\"Dragon, Ie wo Kau.\">Dragon, Ie wo Kau.</a>\n</li>\n<li>\n<a href=\"/anime/dubu-xiaoyao.html\" title=\"Dubu Xiaoyao\">Dubu Xiaoyao</a>\n</li>\n<li>\n<a href=\"/anime/edens-zero.html\" title=\"Edens Zero\">Edens Zero</a>\n</li>\n<li>\n<a href=\"/anime/fategrand-carnival.html\" title=\"Fate/Grand Carnival\">Fate/Grand Carnival</a>\n</li>\n<li>\n<a href=\"/anime/fei-ren-zai-4th-season.html\" title=\"Fei Ren Zai 4th Season\">Fei Ren Zai 4th Season</a>\n</li>\n<li>\n<a href=\"/anime/fumetsu-no-anata-e.html\" title=\"Fumetsu no Anata e\">Fumetsu no Anata e</a>\n</li>\n<li>\n<a href=\"/anime/fumetsu-no-anata-e-dub.html\" title=\"Fumetsu no Anata e (Dub)\">Fumetsu no Anata e (Dub)</a>\n</li>\n<li>\n<a href=\"/anime/fushigi-dagashiya-zenitendou.html\" title=\"Fushigi Dagashiya: Zenitendou\">Fushigi Dagashiya: Zenitendou</a>\n</li>\n<li>\n<a href=\"/anime/future-card-buddyfight-ace-dub.html\" title=\"Future Card Buddyfight Ace (Dub)\">Future Card Buddyfight Ace (Dub)</a>\n</li>\n<li>\n<a href=\"/anime/gaina-tamager.html\" title=\"Gaina Tamager\">Gaina Tamager</a>\n</li>\n<li>\n<a href=\"/anime/gal-gaku-hijiri-girls-square-gakuin.html\" title=\"Gal-gaku.: Hijiri Girls Square Gakuin\">Gal-gaku.: Hijiri Girls Square Gakuin</a>\n</li>\n<li>\n<a href=\"/anime/genjitsu-shugi-yuusha-no-oukoku-saikenki.html\" title=\"Genjitsu Shugi Yuusha no Oukoku Saikenki\">Genjitsu Shugi Yuusha no Oukoku Saikenki</a>\n</li>\n<li>\n<a href=\"/anime/getter-robo-arc.html\" title=\"Getter Robo Arc\">Getter Robo Arc</a>\n</li>\n<li>\n<a href=\"/anime/ginga-kikoutai-majestic-prince-mirai-e-no-tsubasa-dub.html\" title=\"Ginga Kikoutai Majestic Prince: Mirai e no Tsubasa (Dub)\">Ginga Kikoutai Majestic Prince: Mirai e no Tsubasa (Dub)</a>\n</li>\n<li>\n<a href=\"/anime/gintama-the-semi-final.html\" title=\"Gintama: The Semi-Final\">Gintama: The Semi-Final</a>\n</li>\n<li>\n<a href=\"/anime/gregory-horror-show-the-bloody-karte-dub.html\" title=\"Gregory Horror Show: The Bloody Karte (Dub)\">Gregory Horror Show: The Bloody Karte (Dub)</a>\n</li>\n<li>\n<a href=\"/anime/happy-sugar-life-dub.html\" title=\"Happy Sugar Life (Dub)\">Happy Sugar Life (Dub)</a>\n</li>\n<li>\n<a href=\"/anime/heion-sedai-no-idaten-tachi.html\" title=\"Heion Sedai no Idaten-tachi\">Heion Sedai no Idaten-tachi</a>\n</li>\n<li>\n<a href=\"/anime/higurashi-no-naku-koro-ni-sotsu.html\" title=\"Higurashi no Naku Koro ni Sotsu\">Higurashi no Naku Koro ni Sotsu</a>\n</li>\n<li>\n<a href=\"/anime/holo-no-graffiti.html\" title=\"Holo no Graffiti\">Holo no Graffiti</a>\n</li>\n<li>\n<a href=\"/anime/hori-san-to-miyamura-kun.html\" title=\"Hori-san to Miyamura-kun\">Hori-san to Miyamura-kun</a>\n</li>\n</ul>\n</nav>\n<div class=\"clr\"></div>\n<div class=\"view_more\"><a href=\"/ongoing.html\">view more</a></div>\n</div>\n</div>\n<div class=\"main_body_black right genres\">\n<div class=\"series\">\n<nav class=\"menu_series\">\n<ul>\n<li><a href=\"/genre/action.html\" title=\"Action Anime\">Action</a></li>\n<li><a href=\"/genre/adventure.html\" title=\"Adventure Anime\">Adventure</a></li>\n<li><a href=\"/genre/cars.html\" title=\"Cars Anime\">Cars</a></li>\n<li><a href=\"/genre/comedy.html\" title=\"Comedy Anime\">Comedy</a></li>\n<li><a href=\"/genre/dementia.html\" title=\"Dementia Anime\">Dementia</a></li>\n<li><a href=\"/genre/demons.html\" title=\"Demons Anime\">Demons</a></li>\n<li><a href=\"/genre/drama.html\" title=\"Drama Anime\">Drama</a></li>\n<li><a href=\"/genre/ecchi.html\" title=\"Ecchi Anime\">Ecchi</a></li>\n<li><a href=\"/genre/fantasy.html\" title=\"Fantasy Anime\">Fantasy</a></li>\n<li><a href=\"/genre/game.html\" title=\"Game Anime\">Game</a></li>\n<li><a href=\"/genre/harem.html\" title=\"Harem Anime\">Harem</a></li>\n<li><a href=\"/genre/historical.html\" title=\"Historical Anime\">Historical</a></li>\n<li><a href=\"/genre/horror.html\" title=\"Horror Anime\">Horror</a></li>\n<li><a href=\"/genre/josei.html\" title=\"Josei Anime\">Josei</a></li>\n<li><a href=\"/genre/kids.html\" title=\"Kids Anime\">Kids</a></li>\n<li><a href=\"/genre/magic.html\" title=\"Magic Anime\">Magic</a></li>\n<li><a href=\"/genre/martial-arts.html\" title=\"Martial Arts Anime\">Martial Arts</a></li>\n<li><a href=\"/genre/mecha.html\" title=\"Mecha Anime\">Mecha</a></li>\n<li><a href=\"/genre/military.html\" title=\"Military Anime\">Military</a></li>\n<li><a href=\"/genre/music.html\" title=\"Music Anime\">Music</a></li>\n<li><a href=\"/genre/mystery.html\" title=\"Mystery Anime\">Mystery</a></li>\n<li><a href=\"/genre/parody.html\" title=\"Parody Anime\">Parody</a></li>\n<li><a href=\"/genre/police.html\" title=\"Police Anime\">Police</a></li>\n<li><a href=\"/genre/psychological.html\" title=\"Psychological Anime\">Psychological</a></li>\n<li><a href=\"/genre/romance.html\" title=\"Romance Anime\">Romance</a></li>\n<li><a href=\"/genre/samurai.html\" title=\"Samurai Anime\">Samurai</a></li>\n<li><a href=\"/genre/school.html\" title=\"School Anime\">School</a></li>\n<li><a href=\"/genre/sci-fi.html\" title=\"Sci-Fi Anime\">Sci-Fi</a></li>\n<li><a href=\"/genre/seinen.html\" title=\"Seinen Anime\">Seinen</a></li>\n<li><a href=\"/genre/shoujo.html\" title=\"Shoujo Anime\">Shoujo</a></li>\n<li><a href=\"/genre/shoujo-ai.html\" title=\"Shoujo Ai Anime\">Shoujo Ai</a></li>\n<li><a href=\"/genre/shounen.html\" title=\"Shounen Anime\">Shounen</a></li>\n<li><a href=\"/genre/shounen-ai.html\" title=\"Shounen Ai Anime\">Shounen Ai</a></li>\n<li><a href=\"/genre/slice-of-life.html\" title=\"Slice of Life Anime\">Slice of Life</a></li>\n<li><a href=\"/genre/space.html\" title=\"Space Anime\">Space</a></li>\n<li><a href=\"/genre/sports.html\" title=\"Sports Anime\">Sports</a></li>\n<li><a href=\"/genre/super-power.html\" title=\"Super Power Anime\">Super Power</a></li>\n<li><a href=\"/genre/supernatural.html\" title=\"Supernatural Anime\">Supernatural</a></li>\n<li><a href=\"/genre/thriller.html\" title=\"Thriller Anime\">Thriller</a></li>\n<li><a href=\"/genre/vampire.html\" title=\"Vampire Anime\">Vampire</a></li>\n<li><a href=\"/genre/yaoi.html\" title=\"Yaoi Anime\">Yaoi</a></li>\n<li><a href=\"/genre/yuri.html\" title=\"Yuri Anime\">Yuri</a></li>\n<li><a href=\"/genre/family.html\" title=\"Family Anime\">Family</a></li>\n</ul>\n</nav>\n</div>\n</div>\n</div>\n"
     ]
    }
   ],
   "source": [
    "# main-body\n",
    "main_body = soup.find_all('div',attrs={'class': \"main_body\"})\n",
    "print(*main_body)"
   ]
  },
  {
   "cell_type": "code",
   "execution_count": 5,
   "id": "39a5535b",
   "metadata": {},
   "outputs": [
    {
     "output_type": "stream",
     "name": "stdout",
     "text": [
      "<div class=\"thumb_anime\" style=\"background: url('https://gogocdn.net/cover/yugioh-sevens.png');\">\n<div class=\"bottom\">\n<div class=\"name\">Yu☆Gi☆Oh!: Sevens Episode 55</div>\n<div class=\"episode\">EP 55</div>\n<span class=\"time_ago\"> 5 hours ago</span>\n</div>\n</div>\n"
     ]
    }
   ],
   "source": [
    "blocks = soup.find_all('div',attrs={'class':\"thumb_anime\"})\n",
    "print(blocks[0])"
   ]
  },
  {
   "cell_type": "code",
   "execution_count": 6,
   "id": "c87308b9",
   "metadata": {},
   "outputs": [
    {
     "output_type": "stream",
     "name": "stdout",
     "text": [
      "https://gogocdn.net/cover/yugioh-sevens.png\n",
      "https://gogocdn.net/cover/super-secret.png\n",
      "https://gogocdn.net/cover/aware-meisaku-kun.png\n",
      "https://gogocdn.net/cover/getter-robo-arc.png\n",
      "https://gogocdn.net/cover/tantei-wa-mou-shindeiru.png\n",
      "https://gogocdn.net/cover/shinigami-bocchan-to-kuro-maid.png\n",
      "https://gogocdn.net/cover/yuuki-yuuna-wa-yuusha-de-aru-churutto.png\n",
      "https://gogocdn.net/cover/boruto-naruto-next-generations.png\n",
      "https://gogocdn.net/cover/digimon-adventure-2020.png\n",
      "https://gogocdn.net/images/anime/One-piece.jpg\n",
      "https://gogocdn.net/cover/tropical-rouge-precure.png\n",
      "https://gogocdn.net/cover/edens-zero.png\n",
      "https://gogocdn.net/cover/tokyo-revengers-uncensored.png\n",
      "https://gogocdn.net/cover/tokyo-revengers.png\n",
      "https://gogocdn.net/cover/re-main.png\n",
      "https://gogocdn.net/cover/genjitsu-shugi-yuusha-no-oukoku-saikenki.png\n",
      "https://gogocdn.net/cover/shadows-house.png\n",
      "https://gogocdn.net/cover/kageki-shoujo.png\n",
      "https://gogocdn.net/cover/mahouka-koukou-no-yuutousei.png\n",
      "https://gogocdn.net/cover/bokutachi-no-remake.png\n",
      "https://gogocdn.net/cover/d4dj-petit-mix.png\n",
      "https://gogocdn.net/cover/kumo-desu-ga-nani-ka.png\n",
      "https://gogocdn.net/cover/mairimashita-iruma-kun-2nd-season.png\n",
      "https://gogocdn.net/cover/mobile-suit-gundam-seed-c-e-73-stargazer.png\n",
      "https://gogocdn.net/cover/mobile-suit-gundam-seed-destiny.png\n",
      "https://gogocdn.net/cover/dragon-quest-dai-no-daibouken-2020.png\n",
      "https://gogocdn.net/cover/kanojo-mo-kanojo.png\n",
      "https://gogocdn.net/cover/otome-game-no-hametsu-flag-shika-nai-akuyaku-reijou-ni-tensei-shiteshimatta-x.png\n",
      "https://gogocdn.net/cover/shaman-king-2021.png\n",
      "https://gogocdn.net/cover/vanitas-no-carte.png\n",
      "https://gogocdn.net/cover/majuu-sensen.png\n",
      "https://gogocdn.net/cover/yasashi-sekai.png\n",
      "https://gogocdn.net/cover/saikyou-kamizmode.png\n",
      "https://gogocdn.net/cover/higurashi-no-naku-koro-ni-sotsu.png\n",
      "https://gogocdn.net/cover/peach-boy-riverside.png\n",
      "https://gogocdn.net/cover/sd-gundam-world-heroes.png\n",
      "https://gogocdn.net/cover/mewkledreamy-mix.png\n",
      "https://gogocdn.net/cover/lupin-iii-nusumareta-lupin.png\n",
      "https://gogocdn.net/images/spring/Isshuukan Friends.jpg\n",
      "https://gogocdn.net/cover/wonder-egg-priority-special.png\n",
      "https://gogocdn.net/cover/osananajimi-ga-zettai-ni-makenai-love-comedy.png\n",
      "https://gogocdn.net/cover/mini-dragon.png\n",
      "https://gogocdn.net/cover/tensei-shitara-slime-datta-ken-2nd-season-part-2.png\n",
      "https://gogocdn.net/cover/aikatsu-planet.png\n",
      "https://gogocdn.net/cover/futatsu-no-spica.png\n",
      "https://gogocdn.net/cover/masou-gakuen-hxh-specials.png\n",
      "https://gogocdn.net/cover/one-punch-man-2nd-season-commemorative-special.png\n",
      "https://gogocdn.net/cover/nagagutsu-wo-haita-neko.png\n",
      "https://gogocdn.net/cover/odd-taxi.png\n",
      "https://gogocdn.net/cover/mars-red.png\n",
      "https://gogocdn.net/cover/fruits-basket-the-final.png\n",
      "https://gogocdn.net/cover/fumetsu-no-anata-e.png\n",
      "https://gogocdn.net/cover/itazuraguma-no-gloomy.png\n",
      "https://gogocdn.net/cover/corrector-yui.png\n",
      "https://gogocdn.net/cover/hige-wo-soru-soshite-joshikousei-wo-hirou.png\n",
      "https://gogocdn.net/cover/misutenaide-daisy.png\n",
      "https://gogocdn.net/cover/kiratto-prichan-season-3.png\n",
      "https://gogocdn.net/cover/vivy-fluorite-eyes-song-to-make-everyone-happy-with-my-singing.png\n",
      "https://gogocdn.net/cover/kingdom-3rd-season.png\n",
      "https://gogocdn.net/images/upload/55755.jpg\n",
      "https://gogocdn.net/cover/ninja-hattori-kun-dub.png\n",
      "https://gogocdn.net/cover/black-clover-tv-dub.png\n",
      "https://gogocdn.net/cover/dragon-ie-wo-kau-dub.png\n",
      "https://gogocdn.net/cover/kemono-jihen-dub.png\n",
      "https://gogocdn.net/cover/sentouin-hakenshimasu-dub.png\n",
      "https://gogocdn.net/cover/mairimashita-iruma-kun-2nd-season-dub.png\n",
      "https://gogocdn.net/cover/slime-taoshite-300-nen-shiranai-uchi-ni-level-max-ni-nattemashita-dub.png\n",
      "https://gogocdn.net/cover/tokyo-revengers-dub.png\n",
      "https://gogocdn.net/cover/86-dub.png\n",
      "https://gogocdn.net/cover/bishounen-tanteidan-dub.png\n",
      "https://gogocdn.net/cover/shadows-house-dub.png\n",
      "https://gogocdn.net/cover/vivy-fluorite-eyes-song-dub.png\n",
      "https://gogocdn.net/cover/boku-no-hero-academia-5th-season-dub.png\n",
      "https://gogocdn.net/cover/kumo-desu-ga-nani-ka-dub.png\n",
      "https://gogocdn.net/cover/strike-witches-road-to-berlin-dub.png\n",
      "https://gogocdn.net/cover/tomica-kizuna-gattai-earth-granner-dub.png\n",
      "https://gogocdn.net/cover/jaku-chara-tomozaki-kun-dub.png\n",
      "https://gogocdn.net/cover/majutsushi-orphen-hagure-tabi-kimluck-hen-dub.png\n",
      "https://gogocdn.net/cover/isekai-maou-to-shoukan-shoujo-no-dorei-majutsu-w-dub.png\n",
      "https://gogocdn.net/cover/memories-dub.png\n",
      "https://gogocdn.net/cover/kyuukyoku-shinka-shita-full-dive-rpg-ga-genjitsu-yori-mo-kusoge-dattara-dub.png\n",
      "https://gogocdn.net/cover/wonder-egg-priority-dub.png\n",
      "https://gogocdn.net/cover/tonari-no-totoro-dub.png\n",
      "https://gogocdn.net/cover/dokidoki-precure-dub.png\n",
      "https://gogocdn.net/cover/digimon-adventure-bokura-no-war-game-dub.png\n",
      "https://gogocdn.net/cover/nagagutsu-wo-haita-neko-dub.png\n",
      "https://gogocdn.net/cover/fumetsu-no-anata-e-dub.png\n",
      "https://gogocdn.net/cover/nanatsu-no-taizai-fundo-no-shinpan-dub.png\n",
      "https://gogocdn.net/cover/mars-red-dub.png\n",
      "https://gogocdn.net/cover/fruits-basket-the-final-dub.png\n",
      "https://gogocdn.net/cover/skate-leadingstars-dub.png\n",
      "https://gogocdn.net/cover/back-arrow-dub.png\n",
      "https://gogocdn.net/cover/muhyo-to-rouji-no-mahouritsu-soudan-jimusho-2nd-season-dub.png\n",
      "https://gogocdn.net/cover/tensei-shitara-slime-datta-ken-2nd-season-dub.png\n",
      "https://gogocdn.net/cover/lupin-the-iiird-chikemuri-no-ishikawa-goemon-dub.png\n",
      "https://gogocdn.net/cover/nomad-megalo-box-2-dub.png\n",
      "https://gogocdn.net/cover/yakusoku-no-neverland-2nd-season-dub.png\n",
      "https://gogocdn.net/cover/lupin-iii-fuuma-ichizoku-no-inbou-dub.png\n",
      "https://gogocdn.net/cover/kyochuu-rettou-movie-dub.png\n",
      "https://gogocdn.net/cover/godzilla-singular-point-dub.png\n",
      "https://gogocdn.net/cover/trese-dub.png\n",
      "https://gogocdn.net/cover/show-by-rock-mashumairesh-dub.png\n",
      "https://gogocdn.net/cover/one-piece-film-strong-world-dub.png\n",
      "https://gogocdn.net/cover/one-piece-movie-14-stampede-dub.png\n",
      "https://gogocdn.net/cover/shuumatsu-no-walkure-dub.png\n",
      "https://gogocdn.net/cover/bishoujo-senshi-sailor-moon-supers-specials-dub.png\n",
      "https://gogocdn.net/cover/one-piece-film-gold-dub.png\n",
      "https://gogocdn.net/cover/5-toubun-no-hanayome-2-dub.png\n",
      "https://gogocdn.net/cover/senryuu-shoujo-dub.png\n",
      "https://gogocdn.net/cover/hataraku-saibou-2-dub.png\n",
      "https://gogocdn.net/cover/higurashi-no-naku-koro-ni-gou-dub.png\n",
      "https://gogocdn.net/cover/bishoujo-senshi-sailor-moon-supers-sailor-9-senshi-shuuketsu-black-dream-hole-no-kiseki-dub.png\n",
      "https://gogocdn.net/cover/yahari-ore-no-seishun-love-comedy-wa-machigatteiru-dub.png\n",
      "https://gogocdn.net/cover/tezuka-osamu-no-kyuuyaku-seisho-monogatari-in-the-beginning-dub.png\n",
      "https://gogocdn.net/cover/maetel-legend-dub.png\n",
      "https://gogocdn.net/cover/aozora-shoujotai-dub.png\n",
      "https://gogocdn.net/cover/herlock-saga-nibelung-no-yubiwa-dub.png\n",
      "https://gogocdn.net/cover/accel-world-ex-dub.png\n",
      "https://gogocdn.net/cover/3x3-eyes-dub.png\n",
      "https://gogocdn.net/cover/hackliminality-dub.png\n",
      "https://gogocdn.net/cover/yuan-long-2nd-season.png\n",
      "https://gogocdn.net/cover/peerless-martial-spirit.png\n",
      "https://gogocdn.net/cover/wu-shen-zhu-zai.png\n",
      "https://gogocdn.net/cover/doupo-cangqiong-4th-season.png\n",
      "https://gogocdn.net/cover/wan-jie-du-zun.png\n",
      "https://gogocdn.net/cover/xinghe-zhizun.png\n",
      "https://gogocdn.net/cover/liang-bu-yi.png\n",
      "https://gogocdn.net/cover/chang-an-huan-jie.png\n",
      "https://gogocdn.net/cover/douluo-dalu-2nd-season.png\n",
      "https://gogocdn.net/cover/wu-shang-shen-di-2nd-season.png\n",
      "https://gogocdn.net/cover/ling-jian-zun.png\n",
      "https://gogocdn.net/cover/kuang-shen-mo-zun.png\n",
      "https://gogocdn.net/cover/wanmei-shijie.png\n",
      "https://gogocdn.net/cover/hua-jiang-hu-zhi-bu-liang-ren-4rd-season.png\n",
      "https://gogocdn.net/cover/shiguang-daili-ren.png\n",
      "https://gogocdn.net/cover/wan-jie-shen-zhu.png\n",
      "https://gogocdn.net/cover/dubu-xiaoyao.png\n",
      "https://gogocdn.net/cover/wan-jie-xian-zong-5th-season.png\n",
      "https://gogocdn.net/cover/shi-yi-chang-an-mingyue-jishi-you-er.png\n",
      "https://gogocdn.net/cover/yi-nian-yong-heng.png\n",
      "https://gogocdn.net/cover/xing-hai-qi-shi.png\n",
      "https://gogocdn.net/cover/tian-huang-zhan-shen.png\n",
      "https://gogocdn.net/cover/tian-bao-fuyao-lu-2nd-season.png\n",
      "https://gogocdn.net/cover/tai-yi-xian-mo-lu-zhi-ling-fei-ji.png\n",
      "https://gogocdn.net/cover/tai-yi-xian-mo-lu-zhi-ling-fei-ji-iv.png\n",
      "https://gogocdn.net/cover/juan-siliang.png\n",
      "https://gogocdn.net/cover/liu-xing-huan-jian.png\n",
      "https://gogocdn.net/cover/li-linke-de-xiao-guaner.png\n",
      "https://gogocdn.net/cover/zhen-hun-jie-2.png\n",
      "https://gogocdn.net/cover/qin-shi-ming-yue-junlin-tianxia.png\n",
      "https://gogocdn.net/cover/xin-shen-bang-nezha-chonsheng.png\n",
      "https://gogocdn.net/cover/bai-niao.png\n",
      "https://gogocdn.net/cover/peeping-life-youtuber-kun.png\n",
      "https://gogocdn.net/cover/zheng-he-1405-mo-hai-xun-zong.png\n",
      "https://gogocdn.net/cover/youtai-nuhai-zai-shanghai.png\n",
      "https://gogocdn.net/cover/fei-ren-zai-gods-also-love-eating.png\n",
      "https://gogocdn.net/cover/yi-guan-xing-shen.png\n",
      "https://gogocdn.net/cover/shi-zhi-ge-hua-yu-yan-de-kuangxiang-shi.png\n",
      "https://gogocdn.net/cover/wei-wo-du-shen.png\n",
      "https://gogocdn.net/cover/mi-bao-zhi-guo.png\n",
      "https://gogocdn.net/cover/zhen-dao-ge.png\n",
      "https://gogocdn.net/cover/wan-jie-fa-shen.png\n",
      "https://gogocdn.net/cover/wo-zhen-de-meiyong-mie.png\n",
      "https://gogocdn.net/cover/shouji-li-de-huanxiong-xiao-zhen.png\n",
      "https://gogocdn.net/cover/shouji-li-de-huanxiong-xiao-zhen.png\n",
      "https://gogocdn.net/cover/da-shen-xian.png\n",
      "https://gogocdn.net/cover/fei-ren-zai-4th-season.png\n",
      "https://gogocdn.net/cover/chuanyue-huoxian-youling-jihua.png\n",
      "https://gogocdn.net/cover/yoru-no-kuni.png\n",
      "https://gogocdn.net/cover/xixing-ji-3nd-season.png\n",
      "https://gogocdn.net/cover/fox-spirit-matchmaker.png\n",
      "https://gogocdn.net/cover/xing-wu-shen-jue.png\n",
      "https://gogocdn.net/cover/ling-long-incarnation.png\n",
      "https://gogocdn.net/cover/shouxi-yu-ling-shi-2nd-season.png\n",
      "https://gogocdn.net/cover/tunshi-xingkong.png\n",
      "https://gogocdn.net/cover/little-bell-and-amis-love-story.png\n",
      "https://gogocdn.net/cover/shan-he-jian-xin.png\n",
      "https://gogocdn.net/cover/wu-liuqi-zhi-xuanwu-guo-pian.png\n",
      "https://gogocdn.net/cover/magic-wonderland.png\n",
      "https://gogocdn.net/cover/yi-shijie-zhongyao-pu.png\n",
      "https://gogocdn.net/cover/tantei-wa-mou-shindeiru.png\n",
      "https://gogocdn.net/cover/boruto-naruto-next-generations.png\n",
      "https://gogocdn.net/cover/digimon-adventure-2020.png\n",
      "https://gogocdn.net/images/anime/One-piece.jpg\n",
      "https://gogocdn.net/cover/tokyo-revengers.png\n",
      "https://gogocdn.net/cover/genjitsu-shugi-yuusha-no-oukoku-saikenki.png\n",
      "https://gogocdn.net/cover/mahouka-koukou-no-yuutousei.png\n",
      "https://gogocdn.net/cover/bokutachi-no-remake.png\n",
      "https://gogocdn.net/cover/mairimashita-iruma-kun-2nd-season.png\n",
      "https://gogocdn.net/cover/kanojo-mo-kanojo.png\n",
      "https://gogocdn.net/cover/otome-game-no-hametsu-flag-shika-nai-akuyaku-reijou-ni-tensei-shiteshimatta-x.png\n",
      "https://gogocdn.net/cover/shaman-king-2021.png\n",
      "https://gogocdn.net/cover/vanitas-no-carte.png\n",
      "https://gogocdn.net/cover/tensei-shitara-slime-datta-ken-2nd-season-part-2.png\n",
      "https://gogocdn.net/cover/fruits-basket-the-final.png\n",
      "https://gogocdn.net/cover/fumetsu-no-anata-e.png\n",
      "https://gogocdn.net/cover/hige-wo-soru-soshite-joshikousei-wo-hirou.png\n",
      "https://gogocdn.net/cover/kingdom-3rd-season.png\n",
      "https://gogocdn.net/cover/ijiranaide-nagatoro-san.png\n",
      "https://gogocdn.net/images/anime/detective-conan.jpg\n",
      "https://gogocdn.net/cover/slime-taoshite-300-nen-shiranai-uchi-ni-level-max-ni-nattemashita.png\n",
      "https://gogocdn.net/cover/boku-no-hero-academia-5th-season.png\n",
      "https://gogocdn.net/cover/pokemon-2019.png\n",
      "https://gogocdn.net/cover/zombieland-saga-revenge.png\n",
      "https://gogocdn.net/cover/nanatsu-no-taizai-fundo-no-shinpan.png\n",
      "https://gogocdn.net/cover/kyuukyoku-shinka-shita-full-dive-rpg-ga-genjitsu-yori-mo-kusoge-dattara.png\n",
      "https://gogocdn.net/cover/tensura-nikki-tensei-shitara-slime-datta-ken.png\n",
      "https://gogocdn.net/cover/sentouin-hakenshimasu.png\n",
      "https://gogocdn.net/cover/sonny-boy.png\n",
      "https://gogocdn.net/cover/isekai-maou-to-shoukan-shoujo-no-dorei-majutsu-w.png\n",
      "https://gogocdn.net/cover/horimiya.png\n",
      "https://gogocdn.net/cover/yuru-camp-season-2.png\n",
      "https://gogocdn.net/cover/log-horizon-entaku-houkai.png\n",
      "https://gogocdn.net/cover/tensei-shitara-slime-datta-ken-2nd-season.png\n",
      "https://gogocdn.net/cover/black-clover-tv.png\n",
      "https://gogocdn.net/cover/shingeki-no-kyojin-the-final-season.png\n",
      "https://gogocdn.net/cover/kemono-jihen.png\n",
      "https://gogocdn.net/cover/jujutsu-kaisen-tv.png\n",
      "https://gogocdn.net/cover/5-toubun-no-hanayome-2.png\n",
      "https://gogocdn.net/cover/yakusoku-no-neverland-2nd-season.png\n",
      "https://gogocdn.net/cover/dr-stone-stone-wars.png\n",
      "https://gogocdn.net/cover/beastars-2nd-season.png\n",
      "https://gogocdn.net/cover/rezero-kara-hajimeru-isekai-seikatsu-2nd-season-part-2.png\n",
      "https://gogocdn.net/cover/mushoku-tensei-isekai-ittara-honki-dasu.png\n",
      "https://gogocdn.net/cover/hanyou-no-yashahime-sengoku-otogizoushi.png\n",
      "https://gogocdn.net/cover/higurashi-no-naku-koro-ni-2020.png\n",
      "https://gogocdn.net/cover/hataraku-saibou.png\n",
      "https://gogocdn.net/cover/tensei-shitara-slime-datta-ken.png\n",
      "https://gogocdn.net/cover/noblesse.png\n",
      "https://gogocdn.net/cover/munou-na-nana.png\n",
      "https://gogocdn.net/cover/mahouka-koukou-no-rettousei-raihousha-hen.png\n",
      "https://gogocdn.net/cover/kamisama-ni-natta-hi.png\n",
      "https://gogocdn.net/cover/tonikaku-kawaii.png\n",
      "https://gogocdn.net/cover/adachi-to-shimamura.png\n",
      "https://gogocdn.net/cover/haikyuu-to-the-top-2nd-season.png\n",
      "https://gogocdn.net/cover/dungeon-ni-deai-wo-motomeru-no-wa-machigatteiru-darou-ka-iii.png\n",
      "https://gogocdn.net/cover/majo-no-tabitabi.png\n",
      "https://gogocdn.net/cover/enen-no-shouboutai-ni-no-shou.png\n",
      "https://gogocdn.net/cover/rezero-kara-hajimeru-isekai-seikatsu-2nd-season.png\n",
      "https://gogocdn.net/cover/ahiru-no-sora.png\n"
     ]
    }
   ],
   "source": [
    "# thumb image url\n",
    "import re\n",
    "thumbnail_url = []\n",
    "for block in blocks:\n",
    "    #print(str(block))\n",
    "    a = re.findall(\"'([a-z].*)'\",str(block))\n",
    "    thumbnail_url.append(*a)\n",
    "print(*thumbnail_url,sep=\"\\n\")"
   ]
  },
  {
   "cell_type": "code",
   "execution_count": 7,
   "id": "d421d6a0",
   "metadata": {},
   "outputs": [
    {
     "output_type": "stream",
     "name": "stdout",
     "text": [
      "Yu☆Gi☆Oh!: Sevens Episode 55\nSuper Secret Episode 22\nAware! Meisaku-kun Episode 112\nGetter Robo Arc Episode 1\nTantei wa Mou, Shindeiru. Episode 1\nShinigami Bocchan to Kuro Maid Episode 1\nYuuki Yuuna wa Yuusha de Aru Churutto! Episode 12\nBoruto: Naruto Next Generations Episode 206\nDigimon Adventure (2020) Episode 55\nOne Piece Episode 981\nTropical-Rouge! Precure Episode 19\nEdens Zero Episode 13\nTokyo Revengers (Uncensored) Episode 13\nTokyo Revengers Episode 13\nRe-Main Episode 1\nGenjitsu Shugi Yuusha no Oukoku Saikenki Episode 1\nShadows House Episode 13\nKageki Shoujo!! Episode 1\nMahouka Koukou no Yuutousei Episode 1\nBokutachi no Remake Episode 1\nD4DJ Petit Mix Episode 18\nKumo Desu ga, Nani ka? Episode 24\nMairimashita! Iruma-kun 2nd Season Episode 12\nMobile Suit Gundam SEED C.E.73: Stargazer Episode 1\nMobile Suit Gundam SEED Destiny Episode 50\nDragon Quest: Dai no Daibouken (2020) Episode 38\nKanojo mo Kanojo Episode 1\nOtome Game no Hametsu Flag shika Nai Akuyaku Reijou ni Tensei shiteshimatta... X Episode 1\nShaman King (2021) Episode 14\nVanitas no Carte Episode 1\nMajuu Sensen Episode 3\nYasashi Sekai Episode 3\nSaikyou Kamizmode! Episode 9\nHigurashi no Naku Koro ni Sotsu Episode 2\nPeach Boy Riverside Episode 1\nSD Gundam World Heroes Episode 13\nMewkledreamy Mix! Episode 3\nLupin III: Nusumareta Lupin Episode 1\nIsshuukan Friends Special Episode 12\nWonder Egg Priority Special Episode 1\nOsananajimi ga Zettai ni Makenai Love Comedy Episode 12\nMini Dragon Episode 13\nTensei shitara Slime Datta Ken 2nd Season Part 2 Episode 0\nAikatsu Planet! Episode 25\nFutatsu no Spica Episode 20\nMasou Gakuen HxH Specials Episode 6\nOne Punch Man 2nd Season Commemorative Special Episode 1\nNagagutsu wo Haita Neko Episode 1\nOdd Taxi Episode 13\nMars Red Episode 13\nFruits Basket: The Final Episode 13\nFumetsu no Anata e Episode 12\nItazuraguma no Gloomy Episode 12\nCorrector Yui Episode 27\nHige wo Soru. Soshite Joshikousei wo Hirou. Episode 13\nMisute♡naide Daisy Episode 12\nKiratto Pri☆chan Season 3 Episode 33\nVivy: Fluorite Eye's Song - To Make Everyone Happy With My Singing Episode 1\nKingdom 3rd Season Episode 13\nAttacker You! Episode 34\nNinja Hattori-kun (Dub) Episode 171\nBlack Clover (TV) (Dub) Episode 158\nDragon, Ie wo Kau. (Dub) Episode 5\nKemono Jihen (Dub) Episode 8\nSentouin, Hakenshimasu! (Dub) Episode 7\nMairimashita! Iruma-kun 2nd Season (Dub) Episode 4\nSlime Taoshite 300-nen, Shiranai Uchi ni Level Max ni Nattemashita (Dub) Episode 6\nTokyo Revengers (Dub) Episode 6\n86 (Dub) Episode 3\nBishounen Tanteidan (Dub) Episode 7\nShadows House (Dub) Episode 5\nVivy: Fluorite Eye's Song (Dub) Episode 6\nBoku no Hero Academia 5th Season (Dub) Episode 13\nKumo Desu ga, Nani ka? (Dub) Episode 19\nStrike Witches: Road to Berlin (Dub) Episode 8\nTomica Kizuna Gattai: Earth Granner (Dub) Episode 51\nJaku-Chara Tomozaki-kun (Dub) Episode 11\nMajutsushi Orphen Hagure Tabi: Kimluck-hen (Dub) Episode 3\nIsekai Maou to Shoukan Shoujo no Dorei Majutsu Ω (Dub) Episode 2\nMemories (Dub) Episode 3\nKyuukyoku Shinka shita Full Dive RPG ga Genjitsu yori mo Kusoge Dattara (Dub) Episode 4\nWonder Egg Priority (Dub) Episode 11\nTonari no Totoro (Dub) Episode 1\nDokidoki! Precure (Dub) Episode 30\nDigimon Adventure: Bokura no War Game! (Dub) Episode 1\nNagagutsu wo Haita Neko (Dub) Episode 1\nFumetsu no Anata e (Dub) Episode 5\nNanatsu no Taizai: Fundo no Shinpan (Dub) Episode 12\nMars Red (Dub) Episode 13\nFruits Basket: The Final (Dub) Episode 13\nSkate-Leading☆Stars (Dub) Episode 11\nBack Arrow (Dub) Episode 9\nMuhyo to Rouji no Mahouritsu Soudan Jimusho 2nd Season (Dub) Episode 12\nTensei shitara Slime Datta Ken 2nd Season (Dub) Episode 12\nLupin the IIIrd: Chikemuri no Ishikawa Goemon (Dub) Episode 1\nNomad: Megalo Box 2 (Dub) Episode 4\nYakusoku no Neverland 2nd Season (Dub) Episode 11\nLupin III: Fuuma Ichizoku no Inbou (Dub) Episode 1\nKyochuu Rettou Movie (Dub) Episode 1\nGodzilla Singular Point (Dub) Episode 13\nTrese (Dub) Episode 6\nShow By Rock!! Mashumairesh!! (Dub) Episode 12\nOne Piece Film: Strong World (Dub) Episode 1\nOne Piece Movie 14: Stampede (Dub) Episode 1\nShuumatsu no Walküre (Dub) Episode 12\nBishoujo Senshi Sailor Moon SuperS Specials (Dub) Episode 1\nOne Piece Film: Gold (Dub) Episode 1\n5-toubun no Hanayome 2 (Dub) Episode 12\nSenryuu Shoujo (Dub) Episode 12\nHataraku Saibou!! (Dub) Episode 8\nHigurashi no Naku Koro ni Gou (Dub) Episode 24\nBishoujo Senshi Sailor Moon SuperS: Sailor 9 Senshi Shuuketsu! Black Dream Hole no Kiseki (Dub) Episode 1\nYahari Ore no Seishun Love Comedy wa Machigatteiru. (Dub) Episode 13\nTezuka Osamu no Kyuuyaku Seisho Monogatari: In the Beginning (Dub) Episode 26\nMaetel Legend (Dub) Episode 2\nAozora Shoujotai (Dub) Episode 7\nHerlock Saga: Nibelung no Yubiwa (Dub) Episode 6\nAccel World EX (Dub) Episode 2\n3x3 Eyes (Dub) Episode 4\n.hack//Liminality (Dub) Episode 4\nYuan Long 2nd Season\nPeerless Martial Spirit\nWu Shen Zhu Zai\nDoupo Cangqiong 4th Season\nWan Jie Du Zun\nXinghe Zhizun\nLiang Bu Yi\nChang An Huan Jie\nDouluo Dalu 2nd Season\nWu Shang Shen Di 2nd Season\nLing Jian Zun\nKuang Shen Mo Zun\nWanmei Shijie\nHua Jiang Hu Zhi Bu Liang Ren 4rd Season\nShiguang Daili Ren\nWan Jie Shen Zhu\nDubu Xiaoyao\nWan Jie Xian Zong 5th Season\nShi Yi Chang An: Mingyue Jishi You Er\nYi Nian Yong Heng\nXing Hai Qi Shi\nTian Huang Zhan Shen\nTian Bao Fuyao Lu 2nd Season\nTai Yi Xian Mo Lu Zhi Ling Fei Ji\nTai Yi Xian Mo Lu Zhi Ling Fei Ji IV\nJuan Siliang\nLiu Xing Huan Jian\nLi Linke De Xiao Guaner\nZhen Hun Jie 2\nQin Shi Ming Yue: Junlin Tianxia\nXin Shen Bang: Nezha Chonsheng\nBai Niao\nPeeping Life: YouTuber-kun\nZheng He 1405: Mo Hai Xun Zong\nYoutai Nuhai Zai Shanghai\nFei Ren Zai Gods Also Love Eating\nYi Guan Xing Shen\nShi Zhi Ge: Hua Yu Yan De Kuangxiang Shi\nWei Wo Du Shen\nMi Bao Zhi Guo\nZhen Dao Ge\nWan Jie Fa Shen\nWo Zhen de Meiyong Mie?\nShouji Li de Huanxiong Xiao Zhen\nShouji Li de Huanxiong Xiao Zhen\nDa Shen Xian\nFei Ren Zai 4th Season\nChuanyue Huoxian: Youling Jihua\nYoru no Kuni\nXixing Ji 3nd Season\nFox Spirit Matchmaker\nXing Wu Shen Jue\nLing Long: Incarnation\nShouxi Yu Ling Shi 2nd Season\nTunshi Xingkong\nLittle Bell and Ami’s Love Story\nShan He Jian Xin\nWu Liuqi Zhi Xuanwu Guo Pian\nMagic Wonderland\nYi Shijie Zhongyao Pu\nTantei wa Mou, Shindeiru.\nBoruto: Naruto Next Generations\nDigimon Adventure (2020)\nOne Piece\nTokyo Revengers\nGenjitsu Shugi Yuusha no Oukoku Saikenki\nMahouka Koukou no Yuutousei\nBokutachi no Remake\nMairimashita! Iruma-kun 2nd Season\nKanojo mo Kanojo\nOtome Game no Hametsu Flag shika Nai Akuyaku Reijou ni Tensei shiteshimatta... X\nShaman King (2021)\nVanitas no Carte\nTensei shitara Slime Datta Ken 2nd Season Part 2\nFruits Basket: The Final\nFumetsu no Anata e\nHige wo Soru. Soshite Joshikousei wo Hirou.\nKingdom 3rd Season\nIjiranaide, Nagatoro-san\nDetective Conan\nSlime Taoshite 300-nen, Shiranai Uchi ni Level Max ni Nattemashita\nBoku no Hero Academia 5th Season\nPokemon (2019)\nZombieland Saga: Revenge\nNanatsu no Taizai: Fundo no Shinpan\nKyuukyoku Shinka shita Full Dive RPG ga Genjitsu yori mo Kusoge Dattara\nTensura Nikki: Tensei shitara Slime Datta Ken\nSentouin, Hakenshimasu!\nSonny Boy\nIsekai Maou to Shoukan Shoujo no Dorei Majutsu Ω\nHorimiya\nYuru Camp△ Season 2\nLog Horizon: Entaku Houkai\nTensei shitara Slime Datta Ken 2nd Season\nBlack Clover (TV)\nShingeki no Kyojin: The Final Season\nKemono Jihen\nJujutsu Kaisen (TV)\n5-toubun no Hanayome 2\nYakusoku no Neverland 2nd Season\nDr. Stone: Stone Wars\nBeastars 2nd Season\nRe:Zero kara Hajimeru Isekai Seikatsu 2nd Season Part 2\nMushoku Tensei: Isekai Ittara Honki Dasu\nHanyou no Yashahime: Sengoku Otogizoushi\nHigurashi no Naku Koro ni (2020)\nHataraku Saibou!!\nTensei shitara Slime Datta Ken\nNoblesse\nMunou na Nana\nMahouka Koukou no Rettousei: Raihousha-hen\nKamisama ni Natta Hi\nTonikaku Kawaii\nAdachi to Shimamura\nHaikyuu!!: To the Top 2nd Season\nDungeon ni Deai wo Motomeru no wa Machigatteiru Darou ka III\nMajo no Tabitabi\nEnen no Shouboutai: Ni no Shou\nRe:Zero kara Hajimeru Isekai Seikatsu 2nd Season\nAhiru no Sora\n"
     ]
    }
   ],
   "source": [
    "# Anime Name\n",
    "epi_name = soup.find_all('div', attrs={'class': \"name\"})\n",
    "names = [str(name).split(\">\")[-2].split(\"<\")[0] for name in epi_name]\n",
    "print(*names,sep=\"\\n\")\n",
    "#for name in names:\n",
    "#    if \"Boruto\" in name:\n",
    "#        print(name)"
   ]
  },
  {
   "cell_type": "code",
   "execution_count": 8,
   "id": "10ad1ac8",
   "metadata": {},
   "outputs": [
    {
     "output_type": "stream",
     "name": "stdout",
     "text": [
      "EP 55\nEP 22\nEP 112\nEP 1\nEP 1\nEP 1\nEP 12\nEP 206\nEP 55\nEP 981\nEP 19\nEP 13\nEP 13\nEP 13\nEP 1\nEP 1\nEP 13\nEP 1\nEP 1\nEP 1\nEP 18\nEP 24\nEP 12\nEP 1\nEP 50\nEP 38\nEP 1\nEP 1\nEP 14\nEP 1\nEP 3\nEP 3\nEP 9\nEP 2\nEP 1\nEP 13\nEP 3\nEP 1\nEP 12\nEP 1\nEP 12\nEP 13\nEP 0\nEP 25\nEP 20\nEP 6\nEP 1\nEP 1\nEP 13\nEP 13\nEP 13\nEP 12\nEP 12\nEP 27\nEP 13\nEP 12\nEP 33\nEP 1\nEP 13\nEP 34\nEP 171\nEP 158\nEP 5\nEP 8\nEP 7\nEP 4\nEP 6\nEP 6\nEP 3\nEP 7\nEP 5\nEP 6\nEP 13\nEP 19\nEP 8\nEP 51\nEP 11\nEP 3\nEP 2\nEP 3\nEP 4\nEP 11\nEP 1\nEP 30\nEP 1\nEP 1\nEP 5\nEP 12\nEP 13\nEP 13\nEP 11\nEP 9\nEP 12\nEP 12\nEP 1\nEP 4\nEP 11\nEP 1\nEP 1\nEP 13\nEP 6\nEP 12\nEP 1\nEP 1\nEP 12\nEP 1\nEP 1\nEP 12\nEP 12\nEP 8\nEP 24\nEP 1\nEP 13\nEP 26\nEP 2\nEP 7\nEP 6\nEP 2\nEP 4\nEP 4\nEP 18\nEP 76\nEP 141\nEP 16\nEP 28\nEP 11\nEP 10\nEP 40\nEP 137\nEP 15\nEP 189\nEP 21\nEP 13\nEP 12\nEP 10\nEP 141\nEP 117\nEP 4\nEP 12\nEP 49\nEP 14\nEP 68\nEP 8\nEP 16\nEP 7\nEP 4\nEP 20\nEP 9\nEP 10\nEP 75\nEP 3\nEP 1\nEP 4\nEP 1\nEP 1\nEP 3\nEP 1\nEP 13\nEP 41\nEP 10\nEP 12\nEP 54\nEP 6\nEP 20\nEP 18\nEP 32\nEP 8\nEP 13\nEP 2\nEP 2\nEP 134\nEP 40\nEP 15\nEP 25\nEP 26\nEP 1\nEP 16\nEP 10\nEP 1\nEP 41\nEP 1\nEP 206\nEP 55\nEP 981\nEP 13\nEP 1\nEP 1\nEP 1\nEP 12\nEP 1\nEP 1\nEP 14\nEP 1\nEP 0\nEP 13\nEP 12\nEP 13\nEP 13\nEP 12\nEP 1010\nEP 12\nEP 14\nEP 72\nEP 12\nEP 24\nEP 12\nEP 12\nEP 12\nEP 1\nEP 10\nEP 13\nEP 13\nEP 12\nEP 12\nEP 170\nEP 16\nEP 12\nEP 24\nEP 12\nEP 11\nEP 11\nEP 12\nEP 12\nEP 11\nEP 24\nEP 24\nEP 8\nEP 24.9\nEP 13\nEP 13\nEP 13\nEP 12\nEP 12.5\nEP 12\nEP 12\nEP 12\nEP 12\nEP 24\nEP 13\nEP 50\n"
     ]
    }
   ],
   "source": [
    "# episode number\n",
    "epi_number = soup.find_all('div', attrs={'class':'episode'})\n",
    "#print(*epi_number,sep=\"\\n\")\n",
    "episodeno = [str(n).split(\">\")[-2].split(\"<\")[0] for n in epi_number]\n",
    "print(*episodeno,sep=\"\\n\")"
   ]
  },
  {
   "cell_type": "code",
   "execution_count": 9,
   "id": "695eaa65",
   "metadata": {},
   "outputs": [
    {
     "output_type": "stream",
     "name": "stdout",
     "text": [
      "https://www7.animeseries.io//watch/yugioh-sevens-episode-55.html\nhttps://www7.animeseries.io//watch/super-secret-episode-22.html\nhttps://www7.animeseries.io//watch/aware-meisaku-kun-episode-112.html\nhttps://www7.animeseries.io//watch/getter-robo-arc-episode-1.html\nhttps://www7.animeseries.io//watch/tantei-wa-mou-shindeiru-episode-1.html\nhttps://www7.animeseries.io//watch/shinigami-bocchan-to-kuro-maid-episode-1.html\nhttps://www7.animeseries.io//watch/yuuki-yuuna-wa-yuusha-de-aru-churutto-episode-12.html\nhttps://www7.animeseries.io//watch/boruto-naruto-next-generations-episode-206.html\nhttps://www7.animeseries.io//watch/digimon-adventure-2020-episode-55.html\nhttps://www7.animeseries.io//watch/one-piece-episode-981.html\nhttps://www7.animeseries.io//watch/tropical-rouge-precure-episode-19.html\nhttps://www7.animeseries.io//watch/edens-zero-episode-13.html\nhttps://www7.animeseries.io//watch/tokyo-revengers-uncensored-episode-13.html\nhttps://www7.animeseries.io//watch/tokyo-revengers-episode-13.html\nhttps://www7.animeseries.io//watch/re-main-episode-1.html\nhttps://www7.animeseries.io//watch/genjitsu-shugi-yuusha-no-oukoku-saikenki-episode-1.html\nhttps://www7.animeseries.io//watch/shadows-house-episode-13.html\nhttps://www7.animeseries.io//watch/kageki-shoujo-episode-1.html\nhttps://www7.animeseries.io//watch/mahouka-koukou-no-yuutousei-episode-1.html\nhttps://www7.animeseries.io//watch/bokutachi-no-remake-episode-1.html\nhttps://www7.animeseries.io//watch/d4dj-petit-mix-episode-18.html\nhttps://www7.animeseries.io//watch/kumo-desu-ga-nani-ka-episode-24.html\nhttps://www7.animeseries.io//watch/mairimashita-iruma-kun-2nd-season-episode-12.html\nhttps://www7.animeseries.io//watch/mobile-suit-gundam-seed-c-e-73-stargazer-episode-1.html\nhttps://www7.animeseries.io//watch/mobile-suit-gundam-seed-destiny-episode-50.html\nhttps://www7.animeseries.io//watch/dragon-quest-dai-no-daibouken-2020-episode-38.html\nhttps://www7.animeseries.io//watch/kanojo-mo-kanojo-episode-1.html\nhttps://www7.animeseries.io//watch/otome-game-no-hametsu-flag-shika-nai-akuyaku-reijou-ni-tensei-shiteshimatta-x-episode-1.html\nhttps://www7.animeseries.io//watch/shaman-king-2021-episode-14.html\nhttps://www7.animeseries.io//watch/vanitas-no-carte-episode-1.html\nhttps://www7.animeseries.io//watch/majuu-sensen-episode-3.html\nhttps://www7.animeseries.io//watch/yasashi-sekai-episode-3.html\nhttps://www7.animeseries.io//watch/saikyou-kamizmode-episode-9.html\nhttps://www7.animeseries.io//watch/higurashi-no-naku-koro-ni-sotsu-episode-2.html\nhttps://www7.animeseries.io//watch/peach-boy-riverside-episode-1.html\nhttps://www7.animeseries.io//watch/sd-gundam-world-heroes-episode-13.html\nhttps://www7.animeseries.io//watch/mewkledreamy-mix-episode-3.html\nhttps://www7.animeseries.io//watch/lupin-iii-nusumareta-lupin-episode-1.html\nhttps://www7.animeseries.io//watch/isshuukan-friends-special-episode-12.html\nhttps://www7.animeseries.io//watch/wonder-egg-priority-special-episode-1.html\nhttps://www7.animeseries.io//watch/osananajimi-ga-zettai-ni-makenai-love-comedy-episode-12.html\nhttps://www7.animeseries.io//watch/mini-dragon-episode-13.html\nhttps://www7.animeseries.io//watch/tensei-shitara-slime-datta-ken-2nd-season-part-2.html\nhttps://www7.animeseries.io//watch/aikatsu-planet-episode-25.html\nhttps://www7.animeseries.io//watch/futatsu-no-spica-episode-20.html\nhttps://www7.animeseries.io//watch/masou-gakuen-hxh-specials-episode-6.html\nhttps://www7.animeseries.io//watch/one-punch-man-2nd-season-commemorative-special-episode-1.html\nhttps://www7.animeseries.io//watch/nagagutsu-wo-haita-neko-episode-1.html\nhttps://www7.animeseries.io//watch/odd-taxi-episode-13.html\nhttps://www7.animeseries.io//watch/mars-red-episode-13.html\nhttps://www7.animeseries.io//watch/fruits-basket-the-final-episode-13.html\nhttps://www7.animeseries.io//watch/fumetsu-no-anata-e-episode-12.html\nhttps://www7.animeseries.io//watch/itazuraguma-no-gloomy-episode-12.html\nhttps://www7.animeseries.io//watch/corrector-yui-episode-27.html\nhttps://www7.animeseries.io//watch/hige-wo-soru-soshite-joshikousei-wo-hirou-episode-13.html\nhttps://www7.animeseries.io//watch/misutenaide-daisy-episode-12.html\nhttps://www7.animeseries.io//watch/kiratto-prichan-season-3-episode-33.html\nhttps://www7.animeseries.io//watch/vivy-fluorite-eyes-song-to-make-everyone-happy-with-my-singing-episode-1.html\nhttps://www7.animeseries.io//watch/kingdom-3rd-season-episode-13.html\nhttps://www7.animeseries.io//watch/attacker-you-episode-34.html\nhttps://www7.animeseries.io//watch/ninja-hattori-kun-dub-episode-171.html\nhttps://www7.animeseries.io//watch/black-clover-tv-dub-episode-158.html\nhttps://www7.animeseries.io//watch/dragon-ie-wo-kau-dub-episode-5.html\nhttps://www7.animeseries.io//watch/kemono-jihen-dub-episode-8.html\nhttps://www7.animeseries.io//watch/sentouin-hakenshimasu-dub-episode-7.html\nhttps://www7.animeseries.io//watch/mairimashita-iruma-kun-2nd-season-dub-episode-4.html\nhttps://www7.animeseries.io//watch/slime-taoshite-300-nen-shiranai-uchi-ni-level-max-ni-nattemashita-dub-episode-6.html\nhttps://www7.animeseries.io//watch/tokyo-revengers-dub-episode-6.html\nhttps://www7.animeseries.io//watch/86-dub-episode-3.html\nhttps://www7.animeseries.io//watch/bishounen-tanteidan-dub-episode-7.html\nhttps://www7.animeseries.io//watch/shadows-house-dub-episode-5.html\nhttps://www7.animeseries.io//watch/vivy-fluorite-eyes-song-dub-episode-6.html\nhttps://www7.animeseries.io//watch/boku-no-hero-academia-5th-season-dub-episode-13.html\nhttps://www7.animeseries.io//watch/kumo-desu-ga-nani-ka-dub-episode-19.html\nhttps://www7.animeseries.io//watch/strike-witches-road-to-berlin-dub-episode-8.html\nhttps://www7.animeseries.io//watch/tomica-kizuna-gattai-earth-granner-dub-episode-51.html\nhttps://www7.animeseries.io//watch/jaku-chara-tomozaki-kun-dub-episode-11.html\nhttps://www7.animeseries.io//watch/majutsushi-orphen-hagure-tabi-kimluck-hen-dub-episode-3.html\nhttps://www7.animeseries.io//watch/isekai-maou-to-shoukan-shoujo-no-dorei-majutsu-w-dub-episode-2.html\nhttps://www7.animeseries.io//watch/memories-dub-episode-3.html\nhttps://www7.animeseries.io//watch/kyuukyoku-shinka-shita-full-dive-rpg-ga-genjitsu-yori-mo-kusoge-dattara-dub-episode-4.html\nhttps://www7.animeseries.io//watch/wonder-egg-priority-dub-episode-11.html\nhttps://www7.animeseries.io//watch/tonari-no-totoro-dub-episode-1.html\nhttps://www7.animeseries.io//watch/dokidoki-precure-dub-episode-30.html\nhttps://www7.animeseries.io//watch/digimon-adventure-bokura-no-war-game-dub-episode-1.html\nhttps://www7.animeseries.io//watch/nagagutsu-wo-haita-neko-dub-episode-1.html\nhttps://www7.animeseries.io//watch/fumetsu-no-anata-e-dub-episode-5.html\nhttps://www7.animeseries.io//watch/nanatsu-no-taizai-fundo-no-shinpan-dub-episode-12.html\nhttps://www7.animeseries.io//watch/mars-red-dub-episode-13.html\nhttps://www7.animeseries.io//watch/fruits-basket-the-final-dub-episode-13.html\nhttps://www7.animeseries.io//watch/skate-leadingstars-dub-episode-11.html\nhttps://www7.animeseries.io//watch/back-arrow-dub-episode-9.html\nhttps://www7.animeseries.io//watch/muhyo-to-rouji-no-mahouritsu-soudan-jimusho-2nd-season-dub-episode-12.html\nhttps://www7.animeseries.io//watch/tensei-shitara-slime-datta-ken-2nd-season-dub-episode-12.html\nhttps://www7.animeseries.io//watch/lupin-the-iiird-chikemuri-no-ishikawa-goemon-dub-episode-1.html\nhttps://www7.animeseries.io//watch/nomad-megalo-box-2-dub-episode-4.html\nhttps://www7.animeseries.io//watch/yakusoku-no-neverland-2nd-season-dub-episode-11.html\nhttps://www7.animeseries.io//watch/lupin-iii-fuuma-ichizoku-no-inbou-dub-episode-1.html\nhttps://www7.animeseries.io//watch/kyochuu-rettou-movie-dub-episode-1.html\nhttps://www7.animeseries.io//watch/godzilla-singular-point-dub-episode-13.html\nhttps://www7.animeseries.io//watch/trese-dub-episode-6.html\nhttps://www7.animeseries.io//watch/show-by-rock-mashumairesh-dub-episode-12.html\nhttps://www7.animeseries.io//watch/one-piece-film-strong-world-dub-episode-1.html\nhttps://www7.animeseries.io//watch/one-piece-movie-14-stampede-dub-episode-1.html\nhttps://www7.animeseries.io//watch/shuumatsu-no-walkure-dub-episode-12.html\nhttps://www7.animeseries.io//watch/bishoujo-senshi-sailor-moon-supers-specials-dub-episode-1.html\nhttps://www7.animeseries.io//watch/one-piece-film-gold-dub-episode-1.html\nhttps://www7.animeseries.io//watch/5-toubun-no-hanayome-2-dub-episode-12.html\nhttps://www7.animeseries.io//watch/senryuu-shoujo-dub-episode-12.html\nhttps://www7.animeseries.io//watch/hataraku-saibou-dub-episode-8.html\nhttps://www7.animeseries.io//watch/higurashi-no-naku-koro-ni-gou-dub-episode-24.html\nhttps://www7.animeseries.io//watch/bishoujo-senshi-sailor-moon-supers-sailor-9-senshi-shuuketsu-black-dream-hole-no-kiseki-dub-episode-1.html\nhttps://www7.animeseries.io//watch/yahari-ore-no-seishun-love-comedy-wa-machigatteiru-dub-episode-13.html\nhttps://www7.animeseries.io//watch/tezuka-osamu-no-kyuuyaku-seisho-monogatari-in-the-beginning-dub-episode-26.html\nhttps://www7.animeseries.io//watch/maetel-legend-dub-episode-2.html\nhttps://www7.animeseries.io//watch/aozora-shoujotai-dub-episode-7.html\nhttps://www7.animeseries.io//watch/herlock-saga-nibelung-no-yubiwa-dub-episode-6.html\nhttps://www7.animeseries.io//watch/accel-world-ex-dub-episode-2.html\nhttps://www7.animeseries.io//watch/3x3-eyes-dub-episode-4.html\nhttps://www7.animeseries.io//watch/hackliminality-dub-episode-4.html\nhttps://www7.animeseries.io/\nhttps://www7.animeseries.io/\nhttps://www7.animeseries.io/\nhttps://www7.animeseries.io//anime/doupo-cangqiong-4th-season.html\nhttps://www7.animeseries.io/\nhttps://www7.animeseries.io/\nhttps://www7.animeseries.io/\nhttps://www7.animeseries.io/\nhttps://www7.animeseries.io//anime/douluo-dalu-2nd-season.html\nhttps://www7.animeseries.io/\nhttps://www7.animeseries.io/\nhttps://www7.animeseries.io/\nhttps://www7.animeseries.io/\nhttps://www7.animeseries.io/\nhttps://www7.animeseries.io/\nhttps://www7.animeseries.io/\nhttps://www7.animeseries.io//anime/dubu-xiaoyao.html\nhttps://www7.animeseries.io/\nhttps://www7.animeseries.io/\nhttps://www7.animeseries.io/\nhttps://www7.animeseries.io/\nhttps://www7.animeseries.io/\nhttps://www7.animeseries.io/\nhttps://www7.animeseries.io/\nhttps://www7.animeseries.io/\nhttps://www7.animeseries.io/\nhttps://www7.animeseries.io/\nhttps://www7.animeseries.io/\nhttps://www7.animeseries.io/\nhttps://www7.animeseries.io/\nhttps://www7.animeseries.io/\nhttps://www7.animeseries.io/\nhttps://www7.animeseries.io/\nhttps://www7.animeseries.io/\nhttps://www7.animeseries.io/\nhttps://www7.animeseries.io/\nhttps://www7.animeseries.io/\nhttps://www7.animeseries.io/\nhttps://www7.animeseries.io/\nhttps://www7.animeseries.io/\nhttps://www7.animeseries.io/\nhttps://www7.animeseries.io/\nhttps://www7.animeseries.io/\nhttps://www7.animeseries.io/\nhttps://www7.animeseries.io/\nhttps://www7.animeseries.io/\nhttps://www7.animeseries.io//anime/fei-ren-zai-4th-season.html\nhttps://www7.animeseries.io/\nhttps://www7.animeseries.io/\nhttps://www7.animeseries.io/\nhttps://www7.animeseries.io/\nhttps://www7.animeseries.io/\nhttps://www7.animeseries.io/\nhttps://www7.animeseries.io/\nhttps://www7.animeseries.io/\nhttps://www7.animeseries.io/\nhttps://www7.animeseries.io/\nhttps://www7.animeseries.io/\nhttps://www7.animeseries.io/\nhttps://www7.animeseries.io/\nhttps://www7.animeseries.io/\nhttps://www7.animeseries.io//anime/boruto-naruto-next-generations.html\nhttps://www7.animeseries.io//anime/digimon-adventure-2020.html\nhttps://www7.animeseries.io/\nhttps://www7.animeseries.io/\nhttps://www7.animeseries.io//anime/genjitsu-shugi-yuusha-no-oukoku-saikenki.html\nhttps://www7.animeseries.io/\nhttps://www7.animeseries.io//anime/bokutachi-no-remake.html\nhttps://www7.animeseries.io/\nhttps://www7.animeseries.io/\nhttps://www7.animeseries.io/\nhttps://www7.animeseries.io/\nhttps://www7.animeseries.io/\nhttps://www7.animeseries.io/\nhttps://www7.animeseries.io/\nhttps://www7.animeseries.io//anime/fumetsu-no-anata-e.html\nhttps://www7.animeseries.io/\nhttps://www7.animeseries.io/\nhttps://www7.animeseries.io/\nhttps://www7.animeseries.io//anime/detective-conan.html\nhttps://www7.animeseries.io/\nhttps://www7.animeseries.io//anime/boku-no-hero-academia-5th-season.html\nhttps://www7.animeseries.io/\nhttps://www7.animeseries.io/\nhttps://www7.animeseries.io/\nhttps://www7.animeseries.io/\nhttps://www7.animeseries.io/\nhttps://www7.animeseries.io/\nhttps://www7.animeseries.io/\nhttps://www7.animeseries.io/\nhttps://www7.animeseries.io/\nhttps://www7.animeseries.io/\nhttps://www7.animeseries.io/\nhttps://www7.animeseries.io/\nhttps://www7.animeseries.io/\nhttps://www7.animeseries.io/\nhttps://www7.animeseries.io/\nhttps://www7.animeseries.io/\nhttps://www7.animeseries.io/\nhttps://www7.animeseries.io/\nhttps://www7.animeseries.io/\nhttps://www7.animeseries.io/\nhttps://www7.animeseries.io/\nhttps://www7.animeseries.io/\nhttps://www7.animeseries.io/\nhttps://www7.animeseries.io/\nhttps://www7.animeseries.io/\nhttps://www7.animeseries.io/\nhttps://www7.animeseries.io/\nhttps://www7.animeseries.io/\nhttps://www7.animeseries.io/\nhttps://www7.animeseries.io/\nhttps://www7.animeseries.io/\nhttps://www7.animeseries.io/\nhttps://www7.animeseries.io/\nhttps://www7.animeseries.io/\nhttps://www7.animeseries.io/\nhttps://www7.animeseries.io/\nhttps://www7.animeseries.io/\nhttps://www7.animeseries.io/\n"
     ]
    }
   ],
   "source": [
    "# episode links\n",
    "epi_links = []\n",
    "for name in names:\n",
    "    ss = soup.find_all('a', attrs={'title':name})\n",
    "    a = re.findall('href=\"([a-z\\/\\.].*)\" ',str(ss))\n",
    "    #print(a[0])\n",
    "    if a != []:\n",
    "        epi_links.append(html_url + a[0])\n",
    "    else:\n",
    "        epi_links.append(html_url)\n",
    "print(*epi_links,sep=\"\\n\")"
   ]
  },
  {
   "cell_type": "code",
   "execution_count": 10,
   "id": "62f97b11",
   "metadata": {
    "tags": [
     "outputPrepend"
    ]
   },
   "outputs": [
    {
     "output_type": "stream",
     "name": "stdout",
     "text": [
      "ttps://gogocdn.net/cover/wan-jie-xian-zong-5th-season.png'}\n{'anime_name': 'Shi Yi Chang An: Mingyue Jishi You Er', 'episode_link': 'https://www7.animeseries.io/', 'episode_number': 'EP 12', 'thumb_img': 'https://gogocdn.net/cover/shi-yi-chang-an-mingyue-jishi-you-er.png'}\n{'anime_name': 'Yi Nian Yong Heng', 'episode_link': 'https://www7.animeseries.io/', 'episode_number': 'EP 49', 'thumb_img': 'https://gogocdn.net/cover/yi-nian-yong-heng.png'}\n{'anime_name': 'Xing Hai Qi Shi', 'episode_link': 'https://www7.animeseries.io/', 'episode_number': 'EP 14', 'thumb_img': 'https://gogocdn.net/cover/xing-hai-qi-shi.png'}\n{'anime_name': 'Tian Huang Zhan Shen', 'episode_link': 'https://www7.animeseries.io/', 'episode_number': 'EP 68', 'thumb_img': 'https://gogocdn.net/cover/tian-huang-zhan-shen.png'}\n{'anime_name': 'Tian Bao Fuyao Lu 2nd Season', 'episode_link': 'https://www7.animeseries.io/', 'episode_number': 'EP 8', 'thumb_img': 'https://gogocdn.net/cover/tian-bao-fuyao-lu-2nd-season.png'}\n{'anime_name': 'Tai Yi Xian Mo Lu Zhi Ling Fei Ji', 'episode_link': 'https://www7.animeseries.io/', 'episode_number': 'EP 16', 'thumb_img': 'https://gogocdn.net/cover/tai-yi-xian-mo-lu-zhi-ling-fei-ji.png'}\n{'anime_name': 'Tai Yi Xian Mo Lu Zhi Ling Fei Ji IV', 'episode_link': 'https://www7.animeseries.io/', 'episode_number': 'EP 7', 'thumb_img': 'https://gogocdn.net/cover/tai-yi-xian-mo-lu-zhi-ling-fei-ji-iv.png'}\n{'anime_name': 'Juan Siliang', 'episode_link': 'https://www7.animeseries.io/', 'episode_number': 'EP 4', 'thumb_img': 'https://gogocdn.net/cover/juan-siliang.png'}\n{'anime_name': 'Liu Xing Huan Jian', 'episode_link': 'https://www7.animeseries.io/', 'episode_number': 'EP 20', 'thumb_img': 'https://gogocdn.net/cover/liu-xing-huan-jian.png'}\n{'anime_name': 'Li Linke De Xiao Guaner', 'episode_link': 'https://www7.animeseries.io/', 'episode_number': 'EP 9', 'thumb_img': 'https://gogocdn.net/cover/li-linke-de-xiao-guaner.png'}\n{'anime_name': 'Zhen Hun Jie 2', 'episode_link': 'https://www7.animeseries.io/', 'episode_number': 'EP 10', 'thumb_img': 'https://gogocdn.net/cover/zhen-hun-jie-2.png'}\n{'anime_name': 'Qin Shi Ming Yue: Junlin Tianxia', 'episode_link': 'https://www7.animeseries.io/', 'episode_number': 'EP 75', 'thumb_img': 'https://gogocdn.net/cover/qin-shi-ming-yue-junlin-tianxia.png'}\n{'anime_name': 'Xin Shen Bang: Nezha Chonsheng', 'episode_link': 'https://www7.animeseries.io/', 'episode_number': 'EP 3', 'thumb_img': 'https://gogocdn.net/cover/xin-shen-bang-nezha-chonsheng.png'}\n{'anime_name': 'Bai Niao', 'episode_link': 'https://www7.animeseries.io/', 'episode_number': 'EP 1', 'thumb_img': 'https://gogocdn.net/cover/bai-niao.png'}\n{'anime_name': 'Peeping Life: YouTuber-kun', 'episode_link': 'https://www7.animeseries.io/', 'episode_number': 'EP 4', 'thumb_img': 'https://gogocdn.net/cover/peeping-life-youtuber-kun.png'}\n{'anime_name': 'Zheng He 1405: Mo Hai Xun Zong', 'episode_link': 'https://www7.animeseries.io/', 'episode_number': 'EP 1', 'thumb_img': 'https://gogocdn.net/cover/zheng-he-1405-mo-hai-xun-zong.png'}\n{'anime_name': 'Youtai Nuhai Zai Shanghai', 'episode_link': 'https://www7.animeseries.io/', 'episode_number': 'EP 1', 'thumb_img': 'https://gogocdn.net/cover/youtai-nuhai-zai-shanghai.png'}\n{'anime_name': 'Fei Ren Zai Gods Also Love Eating', 'episode_link': 'https://www7.animeseries.io/', 'episode_number': 'EP 3', 'thumb_img': 'https://gogocdn.net/cover/fei-ren-zai-gods-also-love-eating.png'}\n{'anime_name': 'Yi Guan Xing Shen', 'episode_link': 'https://www7.animeseries.io/', 'episode_number': 'EP 1', 'thumb_img': 'https://gogocdn.net/cover/yi-guan-xing-shen.png'}\n{'anime_name': 'Shi Zhi Ge: Hua Yu Yan De Kuangxiang Shi', 'episode_link': 'https://www7.animeseries.io/', 'episode_number': 'EP 13', 'thumb_img': 'https://gogocdn.net/cover/shi-zhi-ge-hua-yu-yan-de-kuangxiang-shi.png'}\n{'anime_name': 'Wei Wo Du Shen', 'episode_link': 'https://www7.animeseries.io/', 'episode_number': 'EP 41', 'thumb_img': 'https://gogocdn.net/cover/wei-wo-du-shen.png'}\n{'anime_name': 'Mi Bao Zhi Guo', 'episode_link': 'https://www7.animeseries.io/', 'episode_number': 'EP 10', 'thumb_img': 'https://gogocdn.net/cover/mi-bao-zhi-guo.png'}\n{'anime_name': 'Zhen Dao Ge', 'episode_link': 'https://www7.animeseries.io/', 'episode_number': 'EP 12', 'thumb_img': 'https://gogocdn.net/cover/zhen-dao-ge.png'}\n{'anime_name': 'Wan Jie Fa Shen', 'episode_link': 'https://www7.animeseries.io/', 'episode_number': 'EP 54', 'thumb_img': 'https://gogocdn.net/cover/wan-jie-fa-shen.png'}\n{'anime_name': 'Wo Zhen de Meiyong Mie?', 'episode_link': 'https://www7.animeseries.io/', 'episode_number': 'EP 6', 'thumb_img': 'https://gogocdn.net/cover/wo-zhen-de-meiyong-mie.png'}\n{'anime_name': 'Shouji Li de Huanxiong Xiao Zhen', 'episode_link': 'https://www7.animeseries.io/', 'episode_number': 'EP 20', 'thumb_img': 'https://gogocdn.net/cover/shouji-li-de-huanxiong-xiao-zhen.png'}\n{'anime_name': 'Shouji Li de Huanxiong Xiao Zhen', 'episode_link': 'https://www7.animeseries.io/', 'episode_number': 'EP 18', 'thumb_img': 'https://gogocdn.net/cover/shouji-li-de-huanxiong-xiao-zhen.png'}\n{'anime_name': 'Da Shen Xian', 'episode_link': 'https://www7.animeseries.io/', 'episode_number': 'EP 32', 'thumb_img': 'https://gogocdn.net/cover/da-shen-xian.png'}\n{'anime_name': 'Fei Ren Zai 4th Season', 'episode_link': 'https://www7.animeseries.io//anime/fei-ren-zai-4th-season.html', 'episode_number': 'EP 8', 'thumb_img': 'https://gogocdn.net/cover/fei-ren-zai-4th-season.png'}\n{'anime_name': 'Chuanyue Huoxian: Youling Jihua', 'episode_link': 'https://www7.animeseries.io/', 'episode_number': 'EP 13', 'thumb_img': 'https://gogocdn.net/cover/chuanyue-huoxian-youling-jihua.png'}\n{'anime_name': 'Yoru no Kuni', 'episode_link': 'https://www7.animeseries.io/', 'episode_number': 'EP 2', 'thumb_img': 'https://gogocdn.net/cover/yoru-no-kuni.png'}\n{'anime_name': 'Xixing Ji 3nd Season', 'episode_link': 'https://www7.animeseries.io/', 'episode_number': 'EP 2', 'thumb_img': 'https://gogocdn.net/cover/xixing-ji-3nd-season.png'}\n{'anime_name': 'Fox Spirit Matchmaker', 'episode_link': 'https://www7.animeseries.io/', 'episode_number': 'EP 134', 'thumb_img': 'https://gogocdn.net/cover/fox-spirit-matchmaker.png'}\n{'anime_name': 'Xing Wu Shen Jue', 'episode_link': 'https://www7.animeseries.io/', 'episode_number': 'EP 40', 'thumb_img': 'https://gogocdn.net/cover/xing-wu-shen-jue.png'}\n{'anime_name': 'Ling Long: Incarnation', 'episode_link': 'https://www7.animeseries.io/', 'episode_number': 'EP 15', 'thumb_img': 'https://gogocdn.net/cover/ling-long-incarnation.png'}\n{'anime_name': 'Shouxi Yu Ling Shi 2nd Season', 'episode_link': 'https://www7.animeseries.io/', 'episode_number': 'EP 25', 'thumb_img': 'https://gogocdn.net/cover/shouxi-yu-ling-shi-2nd-season.png'}\n{'anime_name': 'Tunshi Xingkong', 'episode_link': 'https://www7.animeseries.io/', 'episode_number': 'EP 26', 'thumb_img': 'https://gogocdn.net/cover/tunshi-xingkong.png'}\n{'anime_name': 'Little Bell and Ami’s Love Story', 'episode_link': 'https://www7.animeseries.io/', 'episode_number': 'EP 1', 'thumb_img': 'https://gogocdn.net/cover/little-bell-and-amis-love-story.png'}\n{'anime_name': 'Shan He Jian Xin', 'episode_link': 'https://www7.animeseries.io/', 'episode_number': 'EP 16', 'thumb_img': 'https://gogocdn.net/cover/shan-he-jian-xin.png'}\n{'anime_name': 'Wu Liuqi Zhi Xuanwu Guo Pian', 'episode_link': 'https://www7.animeseries.io/', 'episode_number': 'EP 10', 'thumb_img': 'https://gogocdn.net/cover/wu-liuqi-zhi-xuanwu-guo-pian.png'}\n{'anime_name': 'Magic Wonderland', 'episode_link': 'https://www7.animeseries.io/', 'episode_number': 'EP 1', 'thumb_img': 'https://gogocdn.net/cover/magic-wonderland.png'}\n{'anime_name': 'Yi Shijie Zhongyao Pu', 'episode_link': 'https://www7.animeseries.io/', 'episode_number': 'EP 41', 'thumb_img': 'https://gogocdn.net/cover/yi-shijie-zhongyao-pu.png'}\n{'anime_name': 'Tantei wa Mou, Shindeiru.', 'episode_link': 'https://www7.animeseries.io/', 'episode_number': 'EP 1', 'thumb_img': 'https://gogocdn.net/cover/tantei-wa-mou-shindeiru.png'}\n{'anime_name': 'Boruto: Naruto Next Generations', 'episode_link': 'https://www7.animeseries.io//anime/boruto-naruto-next-generations.html', 'episode_number': 'EP 206', 'thumb_img': 'https://gogocdn.net/cover/boruto-naruto-next-generations.png'}\n{'anime_name': 'Digimon Adventure (2020)', 'episode_link': 'https://www7.animeseries.io//anime/digimon-adventure-2020.html', 'episode_number': 'EP 55', 'thumb_img': 'https://gogocdn.net/cover/digimon-adventure-2020.png'}\n{'anime_name': 'One Piece', 'episode_link': 'https://www7.animeseries.io/', 'episode_number': 'EP 981', 'thumb_img': 'https://gogocdn.net/images/anime/One-piece.jpg'}\n{'anime_name': 'Tokyo Revengers', 'episode_link': 'https://www7.animeseries.io/', 'episode_number': 'EP 13', 'thumb_img': 'https://gogocdn.net/cover/tokyo-revengers.png'}\n{'anime_name': 'Genjitsu Shugi Yuusha no Oukoku Saikenki', 'episode_link': 'https://www7.animeseries.io//anime/genjitsu-shugi-yuusha-no-oukoku-saikenki.html', 'episode_number': 'EP 1', 'thumb_img': 'https://gogocdn.net/cover/genjitsu-shugi-yuusha-no-oukoku-saikenki.png'}\n{'anime_name': 'Mahouka Koukou no Yuutousei', 'episode_link': 'https://www7.animeseries.io/', 'episode_number': 'EP 1', 'thumb_img': 'https://gogocdn.net/cover/mahouka-koukou-no-yuutousei.png'}\n{'anime_name': 'Bokutachi no Remake', 'episode_link': 'https://www7.animeseries.io//anime/bokutachi-no-remake.html', 'episode_number': 'EP 1', 'thumb_img': 'https://gogocdn.net/cover/bokutachi-no-remake.png'}\n{'anime_name': 'Mairimashita! Iruma-kun 2nd Season', 'episode_link': 'https://www7.animeseries.io/', 'episode_number': 'EP 12', 'thumb_img': 'https://gogocdn.net/cover/mairimashita-iruma-kun-2nd-season.png'}\n{'anime_name': 'Kanojo mo Kanojo', 'episode_link': 'https://www7.animeseries.io/', 'episode_number': 'EP 1', 'thumb_img': 'https://gogocdn.net/cover/kanojo-mo-kanojo.png'}\n{'anime_name': 'Otome Game no Hametsu Flag shika Nai Akuyaku Reijou ni Tensei shiteshimatta... X', 'episode_link': 'https://www7.animeseries.io/', 'episode_number': 'EP 1', 'thumb_img': 'https://gogocdn.net/cover/otome-game-no-hametsu-flag-shika-nai-akuyaku-reijou-ni-tensei-shiteshimatta-x.png'}\n{'anime_name': 'Shaman King (2021)', 'episode_link': 'https://www7.animeseries.io/', 'episode_number': 'EP 14', 'thumb_img': 'https://gogocdn.net/cover/shaman-king-2021.png'}\n{'anime_name': 'Vanitas no Carte', 'episode_link': 'https://www7.animeseries.io/', 'episode_number': 'EP 1', 'thumb_img': 'https://gogocdn.net/cover/vanitas-no-carte.png'}\n{'anime_name': 'Tensei shitara Slime Datta Ken 2nd Season Part 2', 'episode_link': 'https://www7.animeseries.io/', 'episode_number': 'EP 0', 'thumb_img': 'https://gogocdn.net/cover/tensei-shitara-slime-datta-ken-2nd-season-part-2.png'}\n{'anime_name': 'Fruits Basket: The Final', 'episode_link': 'https://www7.animeseries.io/', 'episode_number': 'EP 13', 'thumb_img': 'https://gogocdn.net/cover/fruits-basket-the-final.png'}\n{'anime_name': 'Fumetsu no Anata e', 'episode_link': 'https://www7.animeseries.io//anime/fumetsu-no-anata-e.html', 'episode_number': 'EP 12', 'thumb_img': 'https://gogocdn.net/cover/fumetsu-no-anata-e.png'}\n{'anime_name': 'Hige wo Soru. Soshite Joshikousei wo Hirou.', 'episode_link': 'https://www7.animeseries.io/', 'episode_number': 'EP 13', 'thumb_img': 'https://gogocdn.net/cover/hige-wo-soru-soshite-joshikousei-wo-hirou.png'}\n{'anime_name': 'Kingdom 3rd Season', 'episode_link': 'https://www7.animeseries.io/', 'episode_number': 'EP 13', 'thumb_img': 'https://gogocdn.net/cover/kingdom-3rd-season.png'}\n{'anime_name': 'Ijiranaide, Nagatoro-san', 'episode_link': 'https://www7.animeseries.io/', 'episode_number': 'EP 12', 'thumb_img': 'https://gogocdn.net/cover/ijiranaide-nagatoro-san.png'}\n{'anime_name': 'Detective Conan', 'episode_link': 'https://www7.animeseries.io//anime/detective-conan.html', 'episode_number': 'EP 1010', 'thumb_img': 'https://gogocdn.net/images/anime/detective-conan.jpg'}\n{'anime_name': 'Slime Taoshite 300-nen, Shiranai Uchi ni Level Max ni Nattemashita', 'episode_link': 'https://www7.animeseries.io/', 'episode_number': 'EP 12', 'thumb_img': 'https://gogocdn.net/cover/slime-taoshite-300-nen-shiranai-uchi-ni-level-max-ni-nattemashita.png'}\n{'anime_name': 'Boku no Hero Academia 5th Season', 'episode_link': 'https://www7.animeseries.io//anime/boku-no-hero-academia-5th-season.html', 'episode_number': 'EP 14', 'thumb_img': 'https://gogocdn.net/cover/boku-no-hero-academia-5th-season.png'}\n{'anime_name': 'Pokemon (2019)', 'episode_link': 'https://www7.animeseries.io/', 'episode_number': 'EP 72', 'thumb_img': 'https://gogocdn.net/cover/pokemon-2019.png'}\n{'anime_name': 'Zombieland Saga: Revenge', 'episode_link': 'https://www7.animeseries.io/', 'episode_number': 'EP 12', 'thumb_img': 'https://gogocdn.net/cover/zombieland-saga-revenge.png'}\n{'anime_name': 'Nanatsu no Taizai: Fundo no Shinpan', 'episode_link': 'https://www7.animeseries.io/', 'episode_number': 'EP 24', 'thumb_img': 'https://gogocdn.net/cover/nanatsu-no-taizai-fundo-no-shinpan.png'}\n{'anime_name': 'Kyuukyoku Shinka shita Full Dive RPG ga Genjitsu yori mo Kusoge Dattara', 'episode_link': 'https://www7.animeseries.io/', 'episode_number': 'EP 12', 'thumb_img': 'https://gogocdn.net/cover/kyuukyoku-shinka-shita-full-dive-rpg-ga-genjitsu-yori-mo-kusoge-dattara.png'}\n{'anime_name': 'Tensura Nikki: Tensei shitara Slime Datta Ken', 'episode_link': 'https://www7.animeseries.io/', 'episode_number': 'EP 12', 'thumb_img': 'https://gogocdn.net/cover/tensura-nikki-tensei-shitara-slime-datta-ken.png'}\n{'anime_name': 'Sentouin, Hakenshimasu!', 'episode_link': 'https://www7.animeseries.io/', 'episode_number': 'EP 12', 'thumb_img': 'https://gogocdn.net/cover/sentouin-hakenshimasu.png'}\n{'anime_name': 'Sonny Boy', 'episode_link': 'https://www7.animeseries.io/', 'episode_number': 'EP 1', 'thumb_img': 'https://gogocdn.net/cover/sonny-boy.png'}\n{'anime_name': 'Isekai Maou to Shoukan Shoujo no Dorei Majutsu Ω', 'episode_link': 'https://www7.animeseries.io/', 'episode_number': 'EP 10', 'thumb_img': 'https://gogocdn.net/cover/isekai-maou-to-shoukan-shoujo-no-dorei-majutsu-w.png'}\n{'anime_name': 'Horimiya', 'episode_link': 'https://www7.animeseries.io/', 'episode_number': 'EP 13', 'thumb_img': 'https://gogocdn.net/cover/horimiya.png'}\n{'anime_name': 'Yuru Camp△ Season 2', 'episode_link': 'https://www7.animeseries.io/', 'episode_number': 'EP 13', 'thumb_img': 'https://gogocdn.net/cover/yuru-camp-season-2.png'}\n{'anime_name': 'Log Horizon: Entaku Houkai', 'episode_link': 'https://www7.animeseries.io/', 'episode_number': 'EP 12', 'thumb_img': 'https://gogocdn.net/cover/log-horizon-entaku-houkai.png'}\n{'anime_name': 'Tensei shitara Slime Datta Ken 2nd Season', 'episode_link': 'https://www7.animeseries.io/', 'episode_number': 'EP 12', 'thumb_img': 'https://gogocdn.net/cover/tensei-shitara-slime-datta-ken-2nd-season.png'}\n{'anime_name': 'Black Clover (TV)', 'episode_link': 'https://www7.animeseries.io/', 'episode_number': 'EP 170', 'thumb_img': 'https://gogocdn.net/cover/black-clover-tv.png'}\n{'anime_name': 'Shingeki no Kyojin: The Final Season', 'episode_link': 'https://www7.animeseries.io/', 'episode_number': 'EP 16', 'thumb_img': 'https://gogocdn.net/cover/shingeki-no-kyojin-the-final-season.png'}\n{'anime_name': 'Kemono Jihen', 'episode_link': 'https://www7.animeseries.io/', 'episode_number': 'EP 12', 'thumb_img': 'https://gogocdn.net/cover/kemono-jihen.png'}\n{'anime_name': 'Jujutsu Kaisen (TV)', 'episode_link': 'https://www7.animeseries.io/', 'episode_number': 'EP 24', 'thumb_img': 'https://gogocdn.net/cover/jujutsu-kaisen-tv.png'}\n{'anime_name': '5-toubun no Hanayome 2', 'episode_link': 'https://www7.animeseries.io/', 'episode_number': 'EP 12', 'thumb_img': 'https://gogocdn.net/cover/5-toubun-no-hanayome-2.png'}\n{'anime_name': 'Yakusoku no Neverland 2nd Season', 'episode_link': 'https://www7.animeseries.io/', 'episode_number': 'EP 11', 'thumb_img': 'https://gogocdn.net/cover/yakusoku-no-neverland-2nd-season.png'}\n{'anime_name': 'Dr. Stone: Stone Wars', 'episode_link': 'https://www7.animeseries.io/', 'episode_number': 'EP 11', 'thumb_img': 'https://gogocdn.net/cover/dr-stone-stone-wars.png'}\n{'anime_name': 'Beastars 2nd Season', 'episode_link': 'https://www7.animeseries.io/', 'episode_number': 'EP 12', 'thumb_img': 'https://gogocdn.net/cover/beastars-2nd-season.png'}\n{'anime_name': 'Re:Zero kara Hajimeru Isekai Seikatsu 2nd Season Part 2', 'episode_link': 'https://www7.animeseries.io/', 'episode_number': 'EP 12', 'thumb_img': 'https://gogocdn.net/cover/rezero-kara-hajimeru-isekai-seikatsu-2nd-season-part-2.png'}\n{'anime_name': 'Mushoku Tensei: Isekai Ittara Honki Dasu', 'episode_link': 'https://www7.animeseries.io/', 'episode_number': 'EP 11', 'thumb_img': 'https://gogocdn.net/cover/mushoku-tensei-isekai-ittara-honki-dasu.png'}\n{'anime_name': 'Hanyou no Yashahime: Sengoku Otogizoushi', 'episode_link': 'https://www7.animeseries.io/', 'episode_number': 'EP 24', 'thumb_img': 'https://gogocdn.net/cover/hanyou-no-yashahime-sengoku-otogizoushi.png'}\n{'anime_name': 'Higurashi no Naku Koro ni (2020)', 'episode_link': 'https://www7.animeseries.io/', 'episode_number': 'EP 24', 'thumb_img': 'https://gogocdn.net/cover/higurashi-no-naku-koro-ni-2020.png'}\n{'anime_name': 'Hataraku Saibou!!', 'episode_link': 'https://www7.animeseries.io/', 'episode_number': 'EP 8', 'thumb_img': 'https://gogocdn.net/cover/hataraku-saibou.png'}\n{'anime_name': 'Tensei shitara Slime Datta Ken', 'episode_link': 'https://www7.animeseries.io/', 'episode_number': 'EP 24.9', 'thumb_img': 'https://gogocdn.net/cover/tensei-shitara-slime-datta-ken.png'}\n{'anime_name': 'Noblesse', 'episode_link': 'https://www7.animeseries.io/', 'episode_number': 'EP 13', 'thumb_img': 'https://gogocdn.net/cover/noblesse.png'}\n{'anime_name': 'Munou na Nana', 'episode_link': 'https://www7.animeseries.io/', 'episode_number': 'EP 13', 'thumb_img': 'https://gogocdn.net/cover/munou-na-nana.png'}\n{'anime_name': 'Mahouka Koukou no Rettousei: Raihousha-hen', 'episode_link': 'https://www7.animeseries.io/', 'episode_number': 'EP 13', 'thumb_img': 'https://gogocdn.net/cover/mahouka-koukou-no-rettousei-raihousha-hen.png'}\n{'anime_name': 'Kamisama ni Natta Hi', 'episode_link': 'https://www7.animeseries.io/', 'episode_number': 'EP 12', 'thumb_img': 'https://gogocdn.net/cover/kamisama-ni-natta-hi.png'}\n{'anime_name': 'Tonikaku Kawaii', 'episode_link': 'https://www7.animeseries.io/', 'episode_number': 'EP 12.5', 'thumb_img': 'https://gogocdn.net/cover/tonikaku-kawaii.png'}\n{'anime_name': 'Adachi to Shimamura', 'episode_link': 'https://www7.animeseries.io/', 'episode_number': 'EP 12', 'thumb_img': 'https://gogocdn.net/cover/adachi-to-shimamura.png'}\n{'anime_name': 'Haikyuu!!: To the Top 2nd Season', 'episode_link': 'https://www7.animeseries.io/', 'episode_number': 'EP 12', 'thumb_img': 'https://gogocdn.net/cover/haikyuu-to-the-top-2nd-season.png'}\n{'anime_name': 'Dungeon ni Deai wo Motomeru no wa Machigatteiru Darou ka III', 'episode_link': 'https://www7.animeseries.io/', 'episode_number': 'EP 12', 'thumb_img': 'https://gogocdn.net/cover/dungeon-ni-deai-wo-motomeru-no-wa-machigatteiru-darou-ka-iii.png'}\n{'anime_name': 'Majo no Tabitabi', 'episode_link': 'https://www7.animeseries.io/', 'episode_number': 'EP 12', 'thumb_img': 'https://gogocdn.net/cover/majo-no-tabitabi.png'}\n{'anime_name': 'Enen no Shouboutai: Ni no Shou', 'episode_link': 'https://www7.animeseries.io/', 'episode_number': 'EP 24', 'thumb_img': 'https://gogocdn.net/cover/enen-no-shouboutai-ni-no-shou.png'}\n{'anime_name': 'Re:Zero kara Hajimeru Isekai Seikatsu 2nd Season', 'episode_link': 'https://www7.animeseries.io/', 'episode_number': 'EP 13', 'thumb_img': 'https://gogocdn.net/cover/rezero-kara-hajimeru-isekai-seikatsu-2nd-season.png'}\n{'anime_name': 'Ahiru no Sora', 'episode_link': 'https://www7.animeseries.io/', 'episode_number': 'EP 50', 'thumb_img': 'https://gogocdn.net/cover/ahiru-no-sora.png'}\n"
     ]
    }
   ],
   "source": [
    "# create a dictionary\n",
    "# name\n",
    "# episode number\n",
    "# episode link\n",
    "# thumb image\n",
    "# video file download\n",
    "output = []\n",
    "for name, epi_no, epi_link, thumb_img in zip(names,episodeno, epi_links, thumbnail_url):\n",
    "    if epi_link != []:\n",
    "        output.append(\n",
    "            {\n",
    "                \"anime_name\": name,\n",
    "                \"episode_link\": epi_link,\n",
    "                \"episode_number\": epi_no,\n",
    "                \"thumb_img\": thumb_img\n",
    "            }\n",
    "        )\n",
    "print(*output,sep=\"\\n\")\n",
    "    "
   ]
  },
  {
   "cell_type": "code",
   "execution_count": 11,
   "id": "1e804a95",
   "metadata": {},
   "outputs": [
    {
     "output_type": "error",
     "ename": "SyntaxError",
     "evalue": "invalid syntax (Temp/ipykernel_17848/231497665.py, line 1)",
     "traceback": [
      "\u001b[1;36m  File \u001b[1;32m\"C:\\Users\\91701\\AppData\\Local\\Temp/ipykernel_17848/231497665.py\"\u001b[1;36m, line \u001b[1;32m1\u001b[0m\n\u001b[1;33m    ss \"//streamani.net/streaming.php?id=MTY0NzA5&title=Yu%E2%98%86Gi%E2%98%86Oh%21%3A+Sevens+episode+55&typesub=SUB\"\u001b[0m\n\u001b[1;37m       ^\u001b[0m\n\u001b[1;31mSyntaxError\u001b[0m\u001b[1;31m:\u001b[0m invalid syntax\n"
     ]
    }
   ],
   "source": [
    "ss \"//streamani.net/streaming.php?id=MTY0NzA5&title=Yu%E2%98%86Gi%E2%98%86Oh%21%3A+Sevens+episode+55&typesub=SUB\""
   ]
  },
  {
   "cell_type": "code",
   "execution_count": 12,
   "id": "62f92380",
   "metadata": {},
   "outputs": [
    {
     "output_type": "stream",
     "name": "stdout",
     "text": [
      "[<a class=\"play-video player selected\" data-video=\"//streamani.net/streaming.php?id=MTY0Njky&amp;title=Super+Secret+episode+22&amp;typesub=SUB\">WATCH EPISODE</a>]\n['//streamani.net/streaming.php?id=MTY0Njky&amp;title=Super+Secret+episode+22&amp;typesub=SUB']\n"
     ]
    }
   ],
   "source": [
    "# get link\n",
    "ss = \"https://www7.animeseries.io//watch/super-secret-episode-22.html\"\n",
    "rr = requests.get(ss,stream=True)\n",
    "s = BeautifulSoup(rr.content,'html.parser')\n",
    "f = s.find_all(\"a\",attrs={'class': \"play-video player selected\"})\n",
    "print(f)\n",
    "# extract data-video\n",
    "import re\n",
    "m = re.findall('data-video=\"([\\S].*)\">',str(f))\n",
    "print(m)"
   ]
  },
  {
   "cell_type": "code",
   "execution_count": 14,
   "id": "5cef3977",
   "metadata": {},
   "outputs": [
    {
     "output_type": "stream",
     "name": "stdout",
     "text": [
      "<Response [200]>\n<script src=\"https://api.movcloud.net/v1/count/anime/en/episode/164709\" type=\"text/javascript\"></script>\n"
     ]
    }
   ],
   "source": [
    "url = \"https://streamani.net/streaming.php?id=MTY0NzA5&amp;title=Yu%E2%98%86Gi%E2%98%86Oh%21%3A+Sevens+episode+55&amp;typesub=SUB\"\n",
    "reqq = requests.get(url,stream=True)\n",
    "print(reqq)\n",
    "with open(\"s.html\",\"wb\") as f:\n",
    "    f.write(reqq.content)\n",
    "s = BeautifulSoup(reqq.content,'html.parser')\n",
    "sc = s.find_all('script')\n",
    "print(sc[12],sep=\"\\n\")"
   ]
  },
  {
   "cell_type": "code",
   "execution_count": null,
   "id": "8225f0cf",
   "metadata": {},
   "outputs": [],
   "source": []
  }
 ],
 "metadata": {
  "kernelspec": {
   "name": "python3",
   "display_name": "Python 3.8.9 64-bit ('testvenv': venv)"
  },
  "language_info": {
   "codemirror_mode": {
    "name": "ipython",
    "version": 3
   },
   "file_extension": ".py",
   "mimetype": "text/x-python",
   "name": "python",
   "nbconvert_exporter": "python",
   "pygments_lexer": "ipython3",
   "version": "3.8.9"
  },
  "interpreter": {
   "hash": "d854178694e5211d013e17ec8bc1b1aef770a629c0e27e106d3d95971c6c84d7"
  }
 },
 "nbformat": 4,
 "nbformat_minor": 5
}